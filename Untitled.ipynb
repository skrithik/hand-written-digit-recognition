{
 "cells": [
  {
   "cell_type": "code",
   "execution_count": 3,
   "id": "cdab1045-38df-428c-961a-4c25dfabe834",
   "metadata": {},
   "outputs": [],
   "source": [
    "#importing the dependencies\n",
    "import numpy as np\n",
    "import tensorflow as tf\n",
    "from tensorflow.keras.models import Sequential\n",
    "from tensorflow.keras.layers import Dense\n",
    "from tensorflow.keras.activations import linear, relu, sigmoid\n",
    "import matplotlib.pyplot as plt\n",
    "import pandas as pd"
   ]
  },
  {
   "cell_type": "code",
   "execution_count": 5,
   "id": "fb082e5f-751a-4612-aab8-fc2ec30797fd",
   "metadata": {},
   "outputs": [],
   "source": [
    "#loading the training data into a pandas dataframe\n",
    "train_data=pd.read_csv('train_data_12000.csv',header=None)"
   ]
  },
  {
   "cell_type": "code",
   "execution_count": 6,
   "id": "d7a5698a-5161-4336-8212-862525f10242",
   "metadata": {},
   "outputs": [
    {
     "data": {
      "text/plain": [
       "(12001, 785)"
      ]
     },
     "execution_count": 6,
     "metadata": {},
     "output_type": "execute_result"
    }
   ],
   "source": [
    "#shape of dataframe\n",
    "train_data.shape"
   ]
  },
  {
   "cell_type": "code",
   "execution_count": 7,
   "id": "139112ad-897b-44c2-9e51-e129409e122b",
   "metadata": {},
   "outputs": [
    {
     "data": {
      "text/html": [
       "<div>\n",
       "<style scoped>\n",
       "    .dataframe tbody tr th:only-of-type {\n",
       "        vertical-align: middle;\n",
       "    }\n",
       "\n",
       "    .dataframe tbody tr th {\n",
       "        vertical-align: top;\n",
       "    }\n",
       "\n",
       "    .dataframe thead th {\n",
       "        text-align: right;\n",
       "    }\n",
       "</style>\n",
       "<table border=\"1\" class=\"dataframe\">\n",
       "  <thead>\n",
       "    <tr style=\"text-align: right;\">\n",
       "      <th></th>\n",
       "      <th>0</th>\n",
       "      <th>1</th>\n",
       "      <th>2</th>\n",
       "      <th>3</th>\n",
       "      <th>4</th>\n",
       "      <th>5</th>\n",
       "      <th>6</th>\n",
       "      <th>7</th>\n",
       "      <th>8</th>\n",
       "      <th>9</th>\n",
       "      <th>...</th>\n",
       "      <th>775</th>\n",
       "      <th>776</th>\n",
       "      <th>777</th>\n",
       "      <th>778</th>\n",
       "      <th>779</th>\n",
       "      <th>780</th>\n",
       "      <th>781</th>\n",
       "      <th>782</th>\n",
       "      <th>783</th>\n",
       "      <th>784</th>\n",
       "    </tr>\n",
       "  </thead>\n",
       "  <tbody>\n",
       "    <tr>\n",
       "      <th>0</th>\n",
       "      <td>6</td>\n",
       "      <td>0</td>\n",
       "      <td>0.1</td>\n",
       "      <td>0.2</td>\n",
       "      <td>0.3</td>\n",
       "      <td>0.4</td>\n",
       "      <td>0.5</td>\n",
       "      <td>0.6</td>\n",
       "      <td>0.7</td>\n",
       "      <td>0.8</td>\n",
       "      <td>...</td>\n",
       "      <td>0.581</td>\n",
       "      <td>0.582</td>\n",
       "      <td>0.583</td>\n",
       "      <td>0.584</td>\n",
       "      <td>0.585</td>\n",
       "      <td>0.586</td>\n",
       "      <td>0.587</td>\n",
       "      <td>0.588</td>\n",
       "      <td>0.589</td>\n",
       "      <td>0.59</td>\n",
       "    </tr>\n",
       "    <tr>\n",
       "      <th>1</th>\n",
       "      <td>8</td>\n",
       "      <td>0</td>\n",
       "      <td>0.0</td>\n",
       "      <td>0.0</td>\n",
       "      <td>0.0</td>\n",
       "      <td>0.0</td>\n",
       "      <td>0.0</td>\n",
       "      <td>0.0</td>\n",
       "      <td>0.0</td>\n",
       "      <td>0.0</td>\n",
       "      <td>...</td>\n",
       "      <td>0.000</td>\n",
       "      <td>0.000</td>\n",
       "      <td>0.000</td>\n",
       "      <td>0.000</td>\n",
       "      <td>0.000</td>\n",
       "      <td>0.000</td>\n",
       "      <td>0.000</td>\n",
       "      <td>0.000</td>\n",
       "      <td>0.000</td>\n",
       "      <td>0.00</td>\n",
       "    </tr>\n",
       "  </tbody>\n",
       "</table>\n",
       "<p>2 rows × 785 columns</p>\n",
       "</div>"
      ],
      "text/plain": [
       "   0    1    2    3    4    5    6    7    8    9    ...    775    776    777  \\\n",
       "0    6    0  0.1  0.2  0.3  0.4  0.5  0.6  0.7  0.8  ...  0.581  0.582  0.583   \n",
       "1    8    0  0.0  0.0  0.0  0.0  0.0  0.0  0.0  0.0  ...  0.000  0.000  0.000   \n",
       "\n",
       "     778    779    780    781    782    783   784  \n",
       "0  0.584  0.585  0.586  0.587  0.588  0.589  0.59  \n",
       "1  0.000  0.000  0.000  0.000  0.000  0.000  0.00  \n",
       "\n",
       "[2 rows x 785 columns]"
      ]
     },
     "execution_count": 7,
     "metadata": {},
     "output_type": "execute_result"
    }
   ],
   "source": [
    "train_data.head(2)"
   ]
  },
  {
   "cell_type": "code",
   "execution_count": 8,
   "id": "63b23552-91d5-469d-8094-2a1973922934",
   "metadata": {},
   "outputs": [],
   "source": [
    "#splitting the data into targets and variables(Y-target,X-variable)\n",
    "Y_train = train_data.iloc[:, 0]  # First column\n",
    "X_train = train_data.iloc[:, 1:785] "
   ]
  },
  {
   "cell_type": "code",
   "execution_count": 9,
   "id": "779512de-4fba-4210-9b21-458ea0fcc3b2",
   "metadata": {},
   "outputs": [
    {
     "data": {
      "text/plain": [
       "(12001, 784)"
      ]
     },
     "execution_count": 9,
     "metadata": {},
     "output_type": "execute_result"
    }
   ],
   "source": [
    "X_train.shape"
   ]
  },
  {
   "cell_type": "code",
   "execution_count": 10,
   "id": "ea62d92c-bbe1-401c-87b6-d29d4e141b66",
   "metadata": {},
   "outputs": [
    {
     "data": {
      "text/plain": [
       "(12001,)"
      ]
     },
     "execution_count": 10,
     "metadata": {},
     "output_type": "execute_result"
    }
   ],
   "source": [
    "Y_train.shape"
   ]
  },
  {
   "cell_type": "code",
   "execution_count": 11,
   "id": "e671a1ed-db94-45e6-b915-2bc6580f6317",
   "metadata": {},
   "outputs": [
    {
     "data": {
      "text/html": [
       "<div>\n",
       "<style scoped>\n",
       "    .dataframe tbody tr th:only-of-type {\n",
       "        vertical-align: middle;\n",
       "    }\n",
       "\n",
       "    .dataframe tbody tr th {\n",
       "        vertical-align: top;\n",
       "    }\n",
       "\n",
       "    .dataframe thead th {\n",
       "        text-align: right;\n",
       "    }\n",
       "</style>\n",
       "<table border=\"1\" class=\"dataframe\">\n",
       "  <thead>\n",
       "    <tr style=\"text-align: right;\">\n",
       "      <th></th>\n",
       "      <th>1</th>\n",
       "      <th>2</th>\n",
       "      <th>3</th>\n",
       "      <th>4</th>\n",
       "      <th>5</th>\n",
       "      <th>6</th>\n",
       "      <th>7</th>\n",
       "      <th>8</th>\n",
       "      <th>9</th>\n",
       "      <th>10</th>\n",
       "      <th>...</th>\n",
       "      <th>775</th>\n",
       "      <th>776</th>\n",
       "      <th>777</th>\n",
       "      <th>778</th>\n",
       "      <th>779</th>\n",
       "      <th>780</th>\n",
       "      <th>781</th>\n",
       "      <th>782</th>\n",
       "      <th>783</th>\n",
       "      <th>784</th>\n",
       "    </tr>\n",
       "  </thead>\n",
       "  <tbody>\n",
       "    <tr>\n",
       "      <th>0</th>\n",
       "      <td>0</td>\n",
       "      <td>0.1</td>\n",
       "      <td>0.2</td>\n",
       "      <td>0.3</td>\n",
       "      <td>0.4</td>\n",
       "      <td>0.5</td>\n",
       "      <td>0.6</td>\n",
       "      <td>0.7</td>\n",
       "      <td>0.8</td>\n",
       "      <td>0.9</td>\n",
       "      <td>...</td>\n",
       "      <td>0.581</td>\n",
       "      <td>0.582</td>\n",
       "      <td>0.583</td>\n",
       "      <td>0.584</td>\n",
       "      <td>0.585</td>\n",
       "      <td>0.586</td>\n",
       "      <td>0.587</td>\n",
       "      <td>0.588</td>\n",
       "      <td>0.589</td>\n",
       "      <td>0.59</td>\n",
       "    </tr>\n",
       "    <tr>\n",
       "      <th>1</th>\n",
       "      <td>0</td>\n",
       "      <td>0.0</td>\n",
       "      <td>0.0</td>\n",
       "      <td>0.0</td>\n",
       "      <td>0.0</td>\n",
       "      <td>0.0</td>\n",
       "      <td>0.0</td>\n",
       "      <td>0.0</td>\n",
       "      <td>0.0</td>\n",
       "      <td>0.0</td>\n",
       "      <td>...</td>\n",
       "      <td>0.000</td>\n",
       "      <td>0.000</td>\n",
       "      <td>0.000</td>\n",
       "      <td>0.000</td>\n",
       "      <td>0.000</td>\n",
       "      <td>0.000</td>\n",
       "      <td>0.000</td>\n",
       "      <td>0.000</td>\n",
       "      <td>0.000</td>\n",
       "      <td>0.00</td>\n",
       "    </tr>\n",
       "  </tbody>\n",
       "</table>\n",
       "<p>2 rows × 784 columns</p>\n",
       "</div>"
      ],
      "text/plain": [
       "   1    2    3    4    5    6    7    8    9    10   ...    775    776    777  \\\n",
       "0    0  0.1  0.2  0.3  0.4  0.5  0.6  0.7  0.8  0.9  ...  0.581  0.582  0.583   \n",
       "1    0  0.0  0.0  0.0  0.0  0.0  0.0  0.0  0.0  0.0  ...  0.000  0.000  0.000   \n",
       "\n",
       "     778    779    780    781    782    783   784  \n",
       "0  0.584  0.585  0.586  0.587  0.588  0.589  0.59  \n",
       "1  0.000  0.000  0.000  0.000  0.000  0.000  0.00  \n",
       "\n",
       "[2 rows x 784 columns]"
      ]
     },
     "execution_count": 11,
     "metadata": {},
     "output_type": "execute_result"
    }
   ],
   "source": [
    "X_train.head(2)"
   ]
  },
  {
   "cell_type": "code",
   "execution_count": 12,
   "id": "f9d9d7b5-af7f-4a9b-9d87-ed6af47d8493",
   "metadata": {},
   "outputs": [
    {
     "data": {
      "text/plain": [
       "0    6\n",
       "1    8\n",
       "Name: 0, dtype: int64"
      ]
     },
     "execution_count": 12,
     "metadata": {},
     "output_type": "execute_result"
    }
   ],
   "source": [
    "Y_train.head(2)"
   ]
  },
  {
   "cell_type": "code",
   "execution_count": 13,
   "id": "f2705868-bdea-4222-9264-963ad49c848d",
   "metadata": {},
   "outputs": [
    {
     "data": {
      "image/png": "[encoded data removed]",
      "text/plain": [
       "<Figure size 1000x500 with 15 Axes>"
      ]
     },
     "metadata": {},
     "output_type": "display_data"
    }
   ],
   "source": [
    "X_train_np = X_train.to_numpy()  # or X_train.values\n",
    "\n",
    "fig, axes = plt.subplots(3, 5, figsize=(10, 5))  # 3 rows, 5 columns\n",
    "for i, ax in enumerate(axes.flat):\n",
    "    image = X_train_np[i].reshape(28, 28)  # Reshape each image\n",
    "    ax.imshow(image, cmap=\"gray\")\n",
    "    ax.set_title(f\"Label: {Y_train[i]}\")\n",
    "    ax.axis(\"off\")\n",
    "\n",
    "plt.show()\n",
    "#plotting a few images "
   ]
  },
  {
   "cell_type": "code",
   "execution_count": 14,
   "id": "60055449-19d1-427c-9ff2-39c321aaa382",
   "metadata": {},
   "outputs": [
    {
     "data": {
      "text/plain": [
       "1      0\n",
       "2      0\n",
       "3      0\n",
       "4      0\n",
       "5      0\n",
       "      ..\n",
       "780    0\n",
       "781    0\n",
       "782    0\n",
       "783    0\n",
       "784    0\n",
       "Length: 784, dtype: int64"
      ]
     },
     "execution_count": 14,
     "metadata": {},
     "output_type": "execute_result"
    }
   ],
   "source": [
    "X_train.isnull().sum()#checking for null values if any"
   ]
  },
  {
   "cell_type": "code",
   "execution_count": 15,
   "id": "9dfcdb61-75eb-4759-8aba-24745efc88ab",
   "metadata": {},
   "outputs": [
    {
     "data": {
      "text/plain": [
       "np.int64(0)"
      ]
     },
     "execution_count": 15,
     "metadata": {},
     "output_type": "execute_result"
    }
   ],
   "source": [
    "Y_train.isnull().sum()"
   ]
  },
  {
   "cell_type": "code",
   "execution_count": 16,
   "id": "2839d3d0-dc7d-40ad-8cab-ce05368dc125",
   "metadata": {},
   "outputs": [
    {
     "data": {
      "text/plain": [
       "0        False\n",
       "1        False\n",
       "2        False\n",
       "3        False\n",
       "4        False\n",
       "         ...  \n",
       "11996    False\n",
       "11997    False\n",
       "11998    False\n",
       "11999    False\n",
       "12000    False\n",
       "Length: 12001, dtype: bool"
      ]
     },
     "execution_count": 16,
     "metadata": {},
     "output_type": "execute_result"
    }
   ],
   "source": [
    "X_train.duplicated()#checking for duplicates"
   ]
  },
  {
   "cell_type": "code",
   "execution_count": 39,
   "id": "9aa410a7-30a4-4ec7-b1ff-aadd0b6fe1cb",
   "metadata": {},
   "outputs": [],
   "source": [
    "df=pd.read_csv('train_data_remaining.csv')\n",
    "Y = df.iloc[:, 0]    # First column as Y\n",
    "X = df.iloc[:, 1:]   # Remaining columns as X"
   ]
  },
  {
   "cell_type": "code",
   "execution_count": 40,
   "id": "496981e5-0f41-416f-b812-2e0b29032c54",
   "metadata": {},
   "outputs": [],
   "source": [
    "from sklearn.model_selection import train_test_split\n",
    "X_cv, X_test, Y_cv, Y_test = train_test_split(X, Y, test_size=0.3, random_state=42)#splitting data into cross validation data and test data"
   ]
  },
  {
   "cell_type": "code",
   "execution_count": 158,
   "id": "0accea28-6a04-4ea2-9318-caaa95ded9d5",
   "metadata": {},
   "outputs": [
    {
     "data": {
      "text/plain": [
       "(2400, 784)"
      ]
     },
     "execution_count": 158,
     "metadata": {},
     "output_type": "execute_result"
    }
   ],
   "source": [
    "X_test.shape"
   ]
  },
  {
   "cell_type": "code",
   "execution_count": 41,
   "id": "709c2f4e-5085-48b9-998c-0b8e2c63fd09",
   "metadata": {},
   "outputs": [
    {
     "data": {
      "image/png": "[encoded data removed]",
      "text/plain": [
       "<Figure size 1200x400 with 5 Axes>"
      ]
     },
     "metadata": {},
     "output_type": "display_data"
    },
    {
     "data": {
      "image/png": "[encoded data removed]",
      "text/plain": [
       "<Figure size 1200x400 with 5 Axes>"
      ]
     },
     "metadata": {},
     "output_type": "display_data"
    }
   ],
   "source": [
    "import matplotlib.pyplot as plt\n",
    "\n",
    "# Function to plot 5 images\n",
    "def plot_images(X, Y, title):\n",
    "    fig, axes = plt.subplots(1, 5, figsize=(12, 4))\n",
    "    fig.suptitle(title, fontsize=14)\n",
    "    \n",
    "    for i, ax in enumerate(axes.flat):\n",
    "        image = X.iloc[i].values.reshape(28, 28)  # Reshape to 28x28\n",
    "        ax.imshow(image, cmap='gray')\n",
    "        ax.set_title(f\"Label: {Y.iloc[i]}\")\n",
    "        ax.axis('off')\n",
    "\n",
    "# Plot 5 images from Cross-Validation and Test sets\n",
    "plot_images(X_cv, Y_cv, \"Cross-Validation Set\")\n",
    "plot_images(X_test, Y_test, \"Test Set\")\n",
    "\n",
    "plt.show()\n"
   ]
  },
  {
   "cell_type": "code",
   "execution_count": null,
   "id": "1342a30f-7562-4eca-8ea5-2ead88333c3b",
   "metadata": {},
   "outputs": [],
   "source": [
    "'''\n",
    "ReLU (Rectified Linear Unit) is an activation function widely used in neural networks, especially in deep learning. \n",
    "It is defined as \\( f(x) = \\max(0, x) \\), meaning it outputs the input if positive \n",
    "and zero otherwise. ReLU helps mitigate the vanishing gradient problem, allowing efficient \n",
    "training of deep networks. However, it can suffer from the \"dying ReLU\" issue, where neurons output zero permanently. \n",
    "Despite this, its simplicity and effectiveness make it the default activation for hidden layers in modern neural networks.\n",
    "\n",
    "The **Softmax activation function** is used in the output layer of a classification neural network when predicting multiple classes. \n",
    "It converts raw logits into probabilities by exponentiating each logit and normalizing them so that their sum equals 1. \n",
    "This makes it useful for multi-class classification, as the highest probability indicates the predicted class. \n",
    "Softmax ensures that predictions are interpretable as probabilities while maintaining differentiability for backpropagation.\n",
    "σ(z_i)=e^z_i/sum(e^z_j)  where j ranges from 1-n\n",
    "e_zi exponentiates each input score (logit).\n",
    "The denominator sums up exponentiated values across all classes, ensuring the output values sum to 1.\n",
    "each σ(z_i) represents the probability of class i\n",
    "'''"
   ]
  },
  {
   "cell_type": "code",
   "execution_count": 105,
   "id": "d96e6c5f-ecb2-4d20-a6c2-0444a4a777ee",
   "metadata": {},
   "outputs": [],
   "source": [
    "#without regularization(implementing a neural network without any regularization)\n",
    "model_without_regularization_11 = Sequential([\n",
    "    tf.keras.Input(shape=(784,)),  \n",
    "    Dense(units=128, activation='relu'),  # Hidden layer\n",
    "    Dense(units=64, activation='relu'),\n",
    "    Dense(units=32, activation='relu'),\n",
    "    Dense(units=10, activation='linear')  # 10 output classes\n",
    "])"
   ]
  },
  {
   "cell_type": "code",
   "execution_count": 106,
   "id": "0d37c3a0-a307-4059-94cd-aba0674fd71f",
   "metadata": {},
   "outputs": [
    {
     "data": {
      "text/html": [
       "<pre style=\"white-space:pre;overflow-x:auto;line-height:normal;font-family:Menlo,'DejaVu Sans Mono',consolas,'Courier New',monospace\"><span style=\"font-weight: bold\">Model: \"sequential_5\"</span>\n",
       "</pre>\n"
      ],
      "text/plain": [
       "\u001b[1mModel: \"sequential_5\"\u001b[0m\n"
      ]
     },
     "metadata": {},
     "output_type": "display_data"
    },
    {
     "data": {
      "text/html": [
       "<pre style=\"white-space:pre;overflow-x:auto;line-height:normal;font-family:Menlo,'DejaVu Sans Mono',consolas,'Courier New',monospace\">┏━━━━━━━━━━━━━━━━━━━━━━━━━━━━━━━━━━━━━━┳━━━━━━━━━━━━━━━━━━━━━━━━━━━━━┳━━━━━━━━━━━━━━━━━┓\n",
       "┃<span style=\"font-weight: bold\"> Layer (type)                         </span>┃<span style=\"font-weight: bold\"> Output Shape                </span>┃<span style=\"font-weight: bold\">         Param # </span>┃\n",
       "┡━━━━━━━━━━━━━━━━━━━━━━━━━━━━━━━━━━━━━━╇━━━━━━━━━━━━━━━━━━━━━━━━━━━━━╇━━━━━━━━━━━━━━━━━┩\n",
       "│ dense_20 (<span style=\"color: #0087ff; text-decoration-color: #0087ff\">Dense</span>)                     │ (<span style=\"color: #00d7ff; text-decoration-color: #00d7ff\">None</span>, <span style=\"color: #00af00; text-decoration-color: #00af00\">128</span>)                 │         <span style=\"color: #00af00; text-decoration-color: #00af00\">100,480</span> │\n",
       "├──────────────────────────────────────┼─────────────────────────────┼─────────────────┤\n",
       "│ dense_21 (<span style=\"color: #0087ff; text-decoration-color: #0087ff\">Dense</span>)                     │ (<span style=\"color: #00d7ff; text-decoration-color: #00d7ff\">None</span>, <span style=\"color: #00af00; text-decoration-color: #00af00\">64</span>)                  │           <span style=\"color: #00af00; text-decoration-color: #00af00\">8,256</span> │\n",
       "├──────────────────────────────────────┼─────────────────────────────┼─────────────────┤\n",
       "│ dense_22 (<span style=\"color: #0087ff; text-decoration-color: #0087ff\">Dense</span>)                     │ (<span style=\"color: #00d7ff; text-decoration-color: #00d7ff\">None</span>, <span style=\"color: #00af00; text-decoration-color: #00af00\">32</span>)                  │           <span style=\"color: #00af00; text-decoration-color: #00af00\">2,080</span> │\n",
       "├──────────────────────────────────────┼─────────────────────────────┼─────────────────┤\n",
       "│ dense_23 (<span style=\"color: #0087ff; text-decoration-color: #0087ff\">Dense</span>)                     │ (<span style=\"color: #00d7ff; text-decoration-color: #00d7ff\">None</span>, <span style=\"color: #00af00; text-decoration-color: #00af00\">10</span>)                  │             <span style=\"color: #00af00; text-decoration-color: #00af00\">330</span> │\n",
       "└──────────────────────────────────────┴─────────────────────────────┴─────────────────┘\n",
       "</pre>\n"
      ],
      "text/plain": [
       "┏━━━━━━━━━━━━━━━━━━━━━━━━━━━━━━━━━━━━━━┳━━━━━━━━━━━━━━━━━━━━━━━━━━━━━┳━━━━━━━━━━━━━━━━━┓\n",
       "┃\u001b[1m \u001b[0m\u001b[1mLayer (type)                        \u001b[0m\u001b[1m \u001b[0m┃\u001b[1m \u001b[0m\u001b[1mOutput Shape               \u001b[0m\u001b[1m \u001b[0m┃\u001b[1m \u001b[0m\u001b[1m        Param #\u001b[0m\u001b[1m \u001b[0m┃\n",
       "┡━━━━━━━━━━━━━━━━━━━━━━━━━━━━━━━━━━━━━━╇━━━━━━━━━━━━━━━━━━━━━━━━━━━━━╇━━━━━━━━━━━━━━━━━┩\n",
       "│ dense_20 (\u001b[38;5;33mDense\u001b[0m)                     │ (\u001b[38;5;45mNone\u001b[0m, \u001b[38;5;34m128\u001b[0m)                 │         \u001b[38;5;34m100,480\u001b[0m │\n",
       "├──────────────────────────────────────┼─────────────────────────────┼─────────────────┤\n",
       "│ dense_21 (\u001b[38;5;33mDense\u001b[0m)                     │ (\u001b[38;5;45mNone\u001b[0m, \u001b[38;5;34m64\u001b[0m)                  │           \u001b[38;5;34m8,256\u001b[0m │\n",
       "├──────────────────────────────────────┼─────────────────────────────┼─────────────────┤\n",
       "│ dense_22 (\u001b[38;5;33mDense\u001b[0m)                     │ (\u001b[38;5;45mNone\u001b[0m, \u001b[38;5;34m32\u001b[0m)                  │           \u001b[38;5;34m2,080\u001b[0m │\n",
       "├──────────────────────────────────────┼─────────────────────────────┼─────────────────┤\n",
       "│ dense_23 (\u001b[38;5;33mDense\u001b[0m)                     │ (\u001b[38;5;45mNone\u001b[0m, \u001b[38;5;34m10\u001b[0m)                  │             \u001b[38;5;34m330\u001b[0m │\n",
       "└──────────────────────────────────────┴─────────────────────────────┴─────────────────┘\n"
      ]
     },
     "metadata": {},
     "output_type": "display_data"
    },
    {
     "data": {
      "text/html": [
       "<pre style=\"white-space:pre;overflow-x:auto;line-height:normal;font-family:Menlo,'DejaVu Sans Mono',consolas,'Courier New',monospace\"><span style=\"font-weight: bold\"> Total params: </span><span style=\"color: #00af00; text-decoration-color: #00af00\">111,146</span> (434.16 KB)\n",
       "</pre>\n"
      ],
      "text/plain": [
       "\u001b[1m Total params: \u001b[0m\u001b[38;5;34m111,146\u001b[0m (434.16 KB)\n"
      ]
     },
     "metadata": {},
     "output_type": "display_data"
    },
    {
     "data": {
      "text/html": [
       "<pre style=\"white-space:pre;overflow-x:auto;line-height:normal;font-family:Menlo,'DejaVu Sans Mono',consolas,'Courier New',monospace\"><span style=\"font-weight: bold\"> Trainable params: </span><span style=\"color: #00af00; text-decoration-color: #00af00\">111,146</span> (434.16 KB)\n",
       "</pre>\n"
      ],
      "text/plain": [
       "\u001b[1m Trainable params: \u001b[0m\u001b[38;5;34m111,146\u001b[0m (434.16 KB)\n"
      ]
     },
     "metadata": {},
     "output_type": "display_data"
    },
    {
     "data": {
      "text/html": [
       "<pre style=\"white-space:pre;overflow-x:auto;line-height:normal;font-family:Menlo,'DejaVu Sans Mono',consolas,'Courier New',monospace\"><span style=\"font-weight: bold\"> Non-trainable params: </span><span style=\"color: #00af00; text-decoration-color: #00af00\">0</span> (0.00 B)\n",
       "</pre>\n"
      ],
      "text/plain": [
       "\u001b[1m Non-trainable params: \u001b[0m\u001b[38;5;34m0\u001b[0m (0.00 B)\n"
      ]
     },
     "metadata": {},
     "output_type": "display_data"
    }
   ],
   "source": [
    "model_without_regularization_11.summary()#(info about the neural network)"
   ]
  },
  {
   "cell_type": "code",
   "execution_count": 107,
   "id": "1bd446fe-f7b4-46cc-ad3e-731a55458221",
   "metadata": {},
   "outputs": [],
   "source": [
    "[layer1, layer2, layer3,layer4] = model_without_regularization_11.layers"
   ]
  },
  {
   "cell_type": "code",
   "execution_count": 108,
   "id": "e5bf7429-69ce-4164-9e44-de2c40b8a276",
   "metadata": {},
   "outputs": [
    {
     "name": "stdout",
     "output_type": "stream",
     "text": [
      "W1 shape = (784, 128), b1 shape = (128,)\n",
      "W2 shape = (128, 64), b2 shape = (64,)\n",
      "W3 shape = (64, 32), b3 shape = (32,)\n",
      "W4 shape = (32, 10), b4 shape = (10,)\n"
     ]
    }
   ],
   "source": [
    "#### Examine Weights shapes\n",
    "W1,b1 = layer1.get_weights()\n",
    "W2,b2 = layer2.get_weights()\n",
    "W3,b3 = layer3.get_weights()\n",
    "W4,b4 = layer4.get_weights()\n",
    "print(f\"W1 shape = {W1.shape}, b1 shape = {b1.shape}\")\n",
    "print(f\"W2 shape = {W2.shape}, b2 shape = {b2.shape}\")\n",
    "print(f\"W3 shape = {W3.shape}, b3 shape = {b3.shape}\")\n",
    "print(f\"W4 shape = {W4.shape}, b4 shape = {b4.shape}\")"
   ]
  },
  {
   "cell_type": "code",
   "execution_count": 109,
   "id": "19e58108-b5b1-427d-b818-495f197b9893",
   "metadata": {},
   "outputs": [],
   "source": [
    "model_without_regularization_11.compile(\n",
    "    loss=tf.keras.losses.SparseCategoricalCrossentropy(from_logits=True),\n",
    "    metrics=['accuracy'],\n",
    ")#compiling the neural net"
   ]
  },
  {
   "cell_type": "code",
   "execution_count": null,
   "id": "ff015ca6-37da-40ce-b93c-59349696d1ae",
   "metadata": {},
   "outputs": [],
   "source": [
    "'''\n",
    "Sparse Categorical Crossentropy (SCCE) is a loss function used for multi-class classification \n",
    "where labels are integer-encoded instead of one-hot encoded. It calculates the negative log probability\n",
    "of the correct class, encouraging the model to assign higher probabilities to true labels.  \n",
    "\n",
    "Mathematically, SCCE is:  \n",
    "loss=-log(y_hat)\n",
    "where y_hat is the predicted probability for the actual class.  \n",
    "\n",
    "Unlike Categorical Crossentropy, SCCE is more memory-efficient as it doesn’t require\n",
    "one-hot encoding. It’s widely used in classification tasks like MNIST digit recognition."
   ]
  },
  {
   "cell_type": "code",
   "execution_count": null,
   "id": "b1656097-3529-49f4-8894-2e165a843126",
   "metadata": {},
   "outputs": [],
   "source": [
    "# Convert DataFrames to NumPy arrays\n",
    "X_train_np = X_train.to_numpy()\n",
    "Y_train_np = Y_train.to_numpy().reshape(-1)  # Ensure it's a 1D array\n",
    "\n",
    "# Fit the model\n",
    "history_train_without_r_11=model_without_regularization_11.fit(X_train_np_more, Y_train_np_more, epochs=50, batch_size=32)\n",
    "#training the model using the training data"
   ]
  },
  {
   "cell_type": "code",
   "execution_count": 111,
   "id": "dbd12c7f-b12e-4900-86af-60add35bc42c",
   "metadata": {},
   "outputs": [
    {
     "data": {
      "image/png": "[encoded data removed]",
      "text/plain": [
       "<Figure size 640x480 with 1 Axes>"
      ]
     },
     "metadata": {},
     "output_type": "display_data"
    }
   ],
   "source": [
    "import matplotlib.pyplot as plt\n",
    "\n",
    "plt.plot(range(1, len(history_train_without_r_11.history['loss']) + 1),  \n",
    "         history_train_without_r_11.history['loss'], label='Training Loss')\n",
    "\n",
    "plt.xlabel('Epochs')\n",
    "plt.ylabel('Loss')\n",
    "plt.title('Training Loss vs. Epochs')\n",
    "plt.legend()\n",
    "plt.grid(True)\n",
    "plt.show()\n",
    "#plotting graph between loss and epochs"
   ]
  },
  {
   "cell_type": "code",
   "execution_count": 114,
   "id": "74b44921-b061-4352-a7b0-e17703f7cd99",
   "metadata": {},
   "outputs": [
    {
     "name": "stdout",
     "output_type": "stream",
     "text": [
      "📌 Training Loss: 0.0638, Training Accuracy: 99.33%\n",
      "📌 CV Loss: 0.5715, CV Accuracy: 95.21%\n"
     ]
    }
   ],
   "source": [
    "train_loss, train_acc = model_without_regularization_11.evaluate(X_train_np, Y_train_np, verbose=0)\n",
    "\n",
    "print(f\"📌 Training Loss: {train_loss:.4f}, Training Accuracy: {train_acc * 100:.2f}%\")\n",
    "\n",
    "cv_loss_11, cv_acc_11 = model_without_regularization_11.evaluate(X_cv_np, Y_cv_np, verbose=0)\n",
    "\n",
    "print(f\"📌 CV Loss: {cv_loss:.4f}, CV Accuracy: {cv_acc * 100:.2f}%\")\n",
    "#measuring accuracies on cross validation data and test data"
   ]
  },
  {
   "cell_type": "code",
   "execution_count": 157,
   "id": "ec4d401d-b50c-4218-8ff9-f0e0a65da2b3",
   "metadata": {},
   "outputs": [
    {
     "data": {
      "text/plain": [
       "\"''\\nThe model was initially trained without regularization and on a smaller dataset, resulting in a\\nsignificant difference between training and CV loss. The training loss was **0.0638**\\nwith an accuracy of **99.33%**, while the CV loss was **0.5715** with an accuracy of **95.21%**. \\nThis large gap indicates **overfitting**, where the model performs exceptionally well on training \\ndata but struggles to generalize to unseen data.\\npossible measures to prevent overfitting:\\n\""
      ]
     },
     "execution_count": 157,
     "metadata": {},
     "output_type": "execute_result"
    }
   ],
   "source": [
    "'''''''''''''''''''''''''''''''''''''''''\n",
    "The model was initially trained without regularization and on a smaller dataset, resulting in a\n",
    "significant difference between training and CV loss. The training loss was **0.0638**\n",
    "with an accuracy of **99.33%**, while the CV loss was **0.5715** with an accuracy of **95.21%**. \n",
    "This large gap indicates **overfitting**, where the model performs exceptionally well on training \n",
    "data but struggles to generalize to unseen data.\n",
    "possible measures to prevent overfitting:\n",
    "->increasing training data size\n",
    "->regularization\n",
    "'''''''''''''''''''''''''''''''''''''''''\n"
   ]
  },
  {
   "cell_type": "code",
   "execution_count": null,
   "id": "44e60491-afd8-4737-9763-d748fd776088",
   "metadata": {},
   "outputs": [],
   "source": [
    "'''\n",
    "below cells from now show how to reduce this overfitting and how adding of data or regularization reduce the\n",
    "problem of overfitting\n",
    "'''"
   ]
  },
  {
   "cell_type": "code",
   "execution_count": 73,
   "id": "89954e33-7bcf-426d-a960-97ca602855c2",
   "metadata": {},
   "outputs": [],
   "source": [
    "more_train_data=pd.read_csv('train_data_remaining.csv')#loading more training data"
   ]
  },
  {
   "cell_type": "code",
   "execution_count": null,
   "id": "8bdf1820-4e8d-44f2-8d1c-52d74d840de7",
   "metadata": {},
   "outputs": [],
   "source": [
    "train_data = pd.concat([train_data, more_train_data], ignore_index=True)\n",
    "#adding more data to initial training data"
   ]
  },
  {
   "cell_type": "code",
   "execution_count": 78,
   "id": "4c8aca16-1ad3-4f55-8661-864267f9b652",
   "metadata": {},
   "outputs": [
    {
     "data": {
      "text/plain": [
       "(20001, 785)"
      ]
     },
     "execution_count": 78,
     "metadata": {},
     "output_type": "execute_result"
    }
   ],
   "source": [
    "train_data.shape"
   ]
  },
  {
   "cell_type": "code",
   "execution_count": 79,
   "id": "df48c258-fcbd-4d04-badf-685c4ff80cf5",
   "metadata": {},
   "outputs": [],
   "source": [
    "Y_train_more = train_data.iloc[:, 0]  # First column\n",
    "X_train_more = train_data.iloc[:, 1:785] "
   ]
  },
  {
   "cell_type": "code",
   "execution_count": 81,
   "id": "f8351496-df69-4836-a276-50545dce996a",
   "metadata": {},
   "outputs": [
    {
     "data": {
      "text/plain": [
       "(20001, 784)"
      ]
     },
     "execution_count": 81,
     "metadata": {},
     "output_type": "execute_result"
    }
   ],
   "source": [
    "X_train_more.shape"
   ]
  },
  {
   "cell_type": "code",
   "execution_count": 82,
   "id": "ce3a16d1-4ab3-4ea9-a7e0-98decf60d2b5",
   "metadata": {},
   "outputs": [
    {
     "data": {
      "text/plain": [
       "(20001,)"
      ]
     },
     "execution_count": 82,
     "metadata": {},
     "output_type": "execute_result"
    }
   ],
   "source": [
    "Y_train_more.shape"
   ]
  },
  {
   "cell_type": "code",
   "execution_count": null,
   "id": "c692f422-0f8a-4f33-9283-6266c6ad6e10",
   "metadata": {},
   "outputs": [],
   "source": [
    "'''\n",
    "->adding more data\n",
    "How adding more data reduces overfitting?\n",
    "Adding more data helps reduce overfitting by allowing the model to learn a more \n",
    "**generalized representation** of the patterns in the dataset rather than memorizing specific examples. \n",
    "With a larger dataset, the model encounters more variations, reducing its reliance on specific features \n",
    "that may not generalize well. This improves its ability to perform on unseen data, \n",
    "leading to a **smaller gap between training and validation loss** and **better generalization**.\n",
    "\n",
    "model_without_regularization_12 model will be used to evaluate performance of the data with more size\n",
    "'''"
   ]
  },
  {
   "cell_type": "code",
   "execution_count": 117,
   "id": "19d840b8-2299-4366-9ec4-5a0bd7158636",
   "metadata": {},
   "outputs": [],
   "source": [
    "model_without_regularization_12 = Sequential([\n",
    "    tf.keras.Input(shape=(784,)),  \n",
    "    Dense(units=128, activation='relu'),  # Hidden layer\n",
    "    Dense(units=64, activation='relu'),\n",
    "    Dense(units=32, activation='relu'),\n",
    "    Dense(units=10, activation='linear')  # 10 output classes\n",
    "])"
   ]
  },
  {
   "cell_type": "code",
   "execution_count": 118,
   "id": "46d7e5ee-8ffd-4f98-a5bc-5bfcf29989a9",
   "metadata": {},
   "outputs": [],
   "source": [
    "model_without_regularization_12.compile(\n",
    "    loss=tf.keras.losses.SparseCategoricalCrossentropy(from_logits=True),\n",
    "    metrics=['accuracy'],\n",
    ")"
   ]
  },
  {
   "cell_type": "code",
   "execution_count": 119,
   "id": "aa79db8a-708e-4903-b12e-d58cccd54cba",
   "metadata": {},
   "outputs": [
    {
     "name": "stdout",
     "output_type": "stream",
     "text": [
      "Epoch 1/50\n",
      "\u001b[1m626/626\u001b[0m \u001b[32m━━━━━━━━━━━━━━━━━━━━\u001b[0m\u001b[37m\u001b[0m \u001b[1m6s\u001b[0m 6ms/step - accuracy: 0.6395 - loss: 5.3051  \n",
      "Epoch 2/50\n",
      "\u001b[1m626/626\u001b[0m \u001b[32m━━━━━━━━━━━━━━━━━━━━\u001b[0m\u001b[37m\u001b[0m \u001b[1m9s\u001b[0m 13ms/step - accuracy: 0.8895 - loss: 0.4581 \n",
      "Epoch 3/50\n",
      "\u001b[1m626/626\u001b[0m \u001b[32m━━━━━━━━━━━━━━━━━━━━\u001b[0m\u001b[37m\u001b[0m \u001b[1m8s\u001b[0m 9ms/step - accuracy: 0.9190 - loss: 0.3324 \n",
      "Epoch 4/50\n",
      "\u001b[1m626/626\u001b[0m \u001b[32m━━━━━━━━━━━━━━━━━━━━\u001b[0m\u001b[37m\u001b[0m \u001b[1m11s\u001b[0m 10ms/step - accuracy: 0.9350 - loss: 0.2789\n",
      "Epoch 5/50\n",
      "\u001b[1m626/626\u001b[0m \u001b[32m━━━━━━━━━━━━━━━━━━━━\u001b[0m\u001b[37m\u001b[0m \u001b[1m7s\u001b[0m 11ms/step - accuracy: 0.9434 - loss: 0.2464\n",
      "Epoch 6/50\n",
      "\u001b[1m626/626\u001b[0m \u001b[32m━━━━━━━━━━━━━━━━━━━━\u001b[0m\u001b[37m\u001b[0m \u001b[1m11s\u001b[0m 12ms/step - accuracy: 0.9431 - loss: 0.2423\n",
      "Epoch 7/50\n",
      "\u001b[1m626/626\u001b[0m \u001b[32m━━━━━━━━━━━━━━━━━━━━\u001b[0m\u001b[37m\u001b[0m \u001b[1m12s\u001b[0m 14ms/step - accuracy: 0.9508 - loss: 0.2248\n",
      "Epoch 8/50\n",
      "\u001b[1m626/626\u001b[0m \u001b[32m━━━━━━━━━━━━━━━━━━━━\u001b[0m\u001b[37m\u001b[0m \u001b[1m8s\u001b[0m 12ms/step - accuracy: 0.9550 - loss: 0.1858 \n",
      "Epoch 9/50\n",
      "\u001b[1m626/626\u001b[0m \u001b[32m━━━━━━━━━━━━━━━━━━━━\u001b[0m\u001b[37m\u001b[0m \u001b[1m11s\u001b[0m 13ms/step - accuracy: 0.9572 - loss: 0.2152\n",
      "Epoch 10/50\n",
      "\u001b[1m626/626\u001b[0m \u001b[32m━━━━━━━━━━━━━━━━━━━━\u001b[0m\u001b[37m\u001b[0m \u001b[1m8s\u001b[0m 12ms/step - accuracy: 0.9593 - loss: 0.1896 \n",
      "Epoch 11/50\n",
      "\u001b[1m626/626\u001b[0m \u001b[32m━━━━━━━━━━━━━━━━━━━━\u001b[0m\u001b[37m\u001b[0m \u001b[1m15s\u001b[0m 20ms/step - accuracy: 0.9583 - loss: 0.1956\n",
      "Epoch 12/50\n",
      "\u001b[1m626/626\u001b[0m \u001b[32m━━━━━━━━━━━━━━━━━━━━\u001b[0m\u001b[37m\u001b[0m \u001b[1m19s\u001b[0m 16ms/step - accuracy: 0.9614 - loss: 0.1935\n",
      "Epoch 13/50\n",
      "\u001b[1m626/626\u001b[0m \u001b[32m━━━━━━━━━━━━━━━━━━━━\u001b[0m\u001b[37m\u001b[0m \u001b[1m9s\u001b[0m 14ms/step - accuracy: 0.9598 - loss: 0.1732\n",
      "Epoch 14/50\n",
      "\u001b[1m626/626\u001b[0m \u001b[32m━━━━━━━━━━━━━━━━━━━━\u001b[0m\u001b[37m\u001b[0m \u001b[1m7s\u001b[0m 11ms/step - accuracy: 0.9622 - loss: 0.1768 \n",
      "Epoch 15/50\n",
      "\u001b[1m626/626\u001b[0m \u001b[32m━━━━━━━━━━━━━━━━━━━━\u001b[0m\u001b[37m\u001b[0m \u001b[1m8s\u001b[0m 13ms/step - accuracy: 0.9649 - loss: 0.1603 \n",
      "Epoch 16/50\n",
      "\u001b[1m626/626\u001b[0m \u001b[32m━━━━━━━━━━━━━━━━━━━━\u001b[0m\u001b[37m\u001b[0m \u001b[1m7s\u001b[0m 11ms/step - accuracy: 0.9604 - loss: 0.1926\n",
      "Epoch 17/50\n",
      "\u001b[1m626/626\u001b[0m \u001b[32m━━━━━━━━━━━━━━━━━━━━\u001b[0m\u001b[37m\u001b[0m \u001b[1m6s\u001b[0m 10ms/step - accuracy: 0.9647 - loss: 0.1758\n",
      "Epoch 18/50\n",
      "\u001b[1m626/626\u001b[0m \u001b[32m━━━━━━━━━━━━━━━━━━━━\u001b[0m\u001b[37m\u001b[0m \u001b[1m16s\u001b[0m 19ms/step - accuracy: 0.9705 - loss: 0.1559\n",
      "Epoch 19/50\n",
      "\u001b[1m626/626\u001b[0m \u001b[32m━━━━━━━━━━━━━━━━━━━━\u001b[0m\u001b[37m\u001b[0m \u001b[1m20s\u001b[0m 18ms/step - accuracy: 0.9716 - loss: 0.1739\n",
      "Epoch 20/50\n",
      "\u001b[1m626/626\u001b[0m \u001b[32m━━━━━━━━━━━━━━━━━━━━\u001b[0m\u001b[37m\u001b[0m \u001b[1m10s\u001b[0m 15ms/step - accuracy: 0.9699 - loss: 0.1961\n",
      "Epoch 21/50\n",
      "\u001b[1m626/626\u001b[0m \u001b[32m━━━━━━━━━━━━━━━━━━━━\u001b[0m\u001b[37m\u001b[0m \u001b[1m8s\u001b[0m 13ms/step - accuracy: 0.9704 - loss: 0.1581\n",
      "Epoch 22/50\n",
      "\u001b[1m626/626\u001b[0m \u001b[32m━━━━━━━━━━━━━━━━━━━━\u001b[0m\u001b[37m\u001b[0m \u001b[1m14s\u001b[0m 20ms/step - accuracy: 0.9687 - loss: 0.1682\n",
      "Epoch 23/50\n",
      "\u001b[1m626/626\u001b[0m \u001b[32m━━━━━━━━━━━━━━━━━━━━\u001b[0m\u001b[37m\u001b[0m \u001b[1m13s\u001b[0m 7ms/step - accuracy: 0.9740 - loss: 0.1527\n",
      "Epoch 24/50\n",
      "\u001b[1m626/626\u001b[0m \u001b[32m━━━━━━━━━━━━━━━━━━━━\u001b[0m\u001b[37m\u001b[0m \u001b[1m17s\u001b[0m 26ms/step - accuracy: 0.9714 - loss: 0.1495\n",
      "Epoch 25/50\n",
      "\u001b[1m626/626\u001b[0m \u001b[32m━━━━━━━━━━━━━━━━━━━━\u001b[0m\u001b[37m\u001b[0m \u001b[1m14s\u001b[0m 23ms/step - accuracy: 0.9659 - loss: 0.1911\n",
      "Epoch 26/50\n",
      "\u001b[1m626/626\u001b[0m \u001b[32m━━━━━━━━━━━━━━━━━━━━\u001b[0m\u001b[37m\u001b[0m \u001b[1m14s\u001b[0m 22ms/step - accuracy: 0.9657 - loss: 0.1628\n",
      "Epoch 27/50\n",
      "\u001b[1m626/626\u001b[0m \u001b[32m━━━━━━━━━━━━━━━━━━━━\u001b[0m\u001b[37m\u001b[0m \u001b[1m18s\u001b[0m 18ms/step - accuracy: 0.9737 - loss: 0.1536\n",
      "Epoch 28/50\n",
      "\u001b[1m626/626\u001b[0m \u001b[32m━━━━━━━━━━━━━━━━━━━━\u001b[0m\u001b[37m\u001b[0m \u001b[1m12s\u001b[0m 19ms/step - accuracy: 0.9750 - loss: 0.1525\n",
      "Epoch 29/50\n",
      "\u001b[1m626/626\u001b[0m \u001b[32m━━━━━━━━━━━━━━━━━━━━\u001b[0m\u001b[37m\u001b[0m \u001b[1m12s\u001b[0m 20ms/step - accuracy: 0.9737 - loss: 0.1495\n",
      "Epoch 30/50\n",
      "\u001b[1m626/626\u001b[0m \u001b[32m━━━━━━━━━━━━━━━━━━━━\u001b[0m\u001b[37m\u001b[0m \u001b[1m6s\u001b[0m 9ms/step - accuracy: 0.9690 - loss: 0.1757\n",
      "Epoch 31/50\n",
      "\u001b[1m626/626\u001b[0m \u001b[32m━━━━━━━━━━━━━━━━━━━━\u001b[0m\u001b[37m\u001b[0m \u001b[1m13s\u001b[0m 21ms/step - accuracy: 0.9739 - loss: 0.1818\n",
      "Epoch 32/50\n",
      "\u001b[1m626/626\u001b[0m \u001b[32m━━━━━━━━━━━━━━━━━━━━\u001b[0m\u001b[37m\u001b[0m \u001b[1m21s\u001b[0m 23ms/step - accuracy: 0.9714 - loss: 0.1439\n",
      "Epoch 33/50\n",
      "\u001b[1m626/626\u001b[0m \u001b[32m━━━━━━━━━━━━━━━━━━━━\u001b[0m\u001b[37m\u001b[0m \u001b[1m14s\u001b[0m 23ms/step - accuracy: 0.9730 - loss: 0.1545\n",
      "Epoch 34/50\n",
      "\u001b[1m626/626\u001b[0m \u001b[32m━━━━━━━━━━━━━━━━━━━━\u001b[0m\u001b[37m\u001b[0m \u001b[1m20s\u001b[0m 21ms/step - accuracy: 0.9780 - loss: 0.1340\n",
      "Epoch 35/50\n",
      "\u001b[1m626/626\u001b[0m \u001b[32m━━━━━━━━━━━━━━━━━━━━\u001b[0m\u001b[37m\u001b[0m \u001b[1m19s\u001b[0m 18ms/step - accuracy: 0.9696 - loss: 0.1899\n",
      "Epoch 36/50\n",
      "\u001b[1m626/626\u001b[0m \u001b[32m━━━━━━━━━━━━━━━━━━━━\u001b[0m\u001b[37m\u001b[0m \u001b[1m10s\u001b[0m 16ms/step - accuracy: 0.9764 - loss: 0.1484\n",
      "Epoch 37/50\n",
      "\u001b[1m626/626\u001b[0m \u001b[32m━━━━━━━━━━━━━━━━━━━━\u001b[0m\u001b[37m\u001b[0m \u001b[1m13s\u001b[0m 21ms/step - accuracy: 0.9755 - loss: 0.1515\n",
      "Epoch 38/50\n",
      "\u001b[1m626/626\u001b[0m \u001b[32m━━━━━━━━━━━━━━━━━━━━\u001b[0m\u001b[37m\u001b[0m \u001b[1m21s\u001b[0m 21ms/step - accuracy: 0.9700 - loss: 0.1944\n",
      "Epoch 39/50\n",
      "\u001b[1m626/626\u001b[0m \u001b[32m━━━━━━━━━━━━━━━━━━━━\u001b[0m\u001b[37m\u001b[0m \u001b[1m18s\u001b[0m 17ms/step - accuracy: 0.9725 - loss: 0.1736\n",
      "Epoch 40/50\n",
      "\u001b[1m626/626\u001b[0m \u001b[32m━━━━━━━━━━━━━━━━━━━━\u001b[0m\u001b[37m\u001b[0m \u001b[1m11s\u001b[0m 17ms/step - accuracy: 0.9704 - loss: 0.1861\n",
      "Epoch 41/50\n",
      "\u001b[1m626/626\u001b[0m \u001b[32m━━━━━━━━━━━━━━━━━━━━\u001b[0m\u001b[37m\u001b[0m \u001b[1m14s\u001b[0m 23ms/step - accuracy: 0.9735 - loss: 0.1688\n",
      "Epoch 42/50\n",
      "\u001b[1m626/626\u001b[0m \u001b[32m━━━━━━━━━━━━━━━━━━━━\u001b[0m\u001b[37m\u001b[0m \u001b[1m20s\u001b[0m 22ms/step - accuracy: 0.9639 - loss: 0.2033\n",
      "Epoch 43/50\n",
      "\u001b[1m626/626\u001b[0m \u001b[32m━━━━━━━━━━━━━━━━━━━━\u001b[0m\u001b[37m\u001b[0m \u001b[1m13s\u001b[0m 21ms/step - accuracy: 0.9700 - loss: 0.2269\n",
      "Epoch 44/50\n",
      "\u001b[1m626/626\u001b[0m \u001b[32m━━━━━━━━━━━━━━━━━━━━\u001b[0m\u001b[37m\u001b[0m \u001b[1m19s\u001b[0m 19ms/step - accuracy: 0.9737 - loss: 0.1574\n",
      "Epoch 45/50\n",
      "\u001b[1m626/626\u001b[0m \u001b[32m━━━━━━━━━━━━━━━━━━━━\u001b[0m\u001b[37m\u001b[0m \u001b[1m13s\u001b[0m 21ms/step - accuracy: 0.9737 - loss: 0.1966\n",
      "Epoch 46/50\n",
      "\u001b[1m626/626\u001b[0m \u001b[32m━━━━━━━━━━━━━━━━━━━━\u001b[0m\u001b[37m\u001b[0m \u001b[1m20s\u001b[0m 20ms/step - accuracy: 0.9769 - loss: 0.1518\n",
      "Epoch 47/50\n",
      "\u001b[1m626/626\u001b[0m \u001b[32m━━━━━━━━━━━━━━━━━━━━\u001b[0m\u001b[37m\u001b[0m \u001b[1m12s\u001b[0m 20ms/step - accuracy: 0.9723 - loss: 0.1630\n",
      "Epoch 48/50\n",
      "\u001b[1m626/626\u001b[0m \u001b[32m━━━━━━━━━━━━━━━━━━━━\u001b[0m\u001b[37m\u001b[0m \u001b[1m15s\u001b[0m 24ms/step - accuracy: 0.9715 - loss: 0.1714\n",
      "Epoch 49/50\n",
      "\u001b[1m626/626\u001b[0m \u001b[32m━━━━━━━━━━━━━━━━━━━━\u001b[0m\u001b[37m\u001b[0m \u001b[1m16s\u001b[0m 25ms/step - accuracy: 0.9715 - loss: 0.2208\n",
      "Epoch 50/50\n",
      "\u001b[1m626/626\u001b[0m \u001b[32m━━━━━━━━━━━━━━━━━━━━\u001b[0m\u001b[37m\u001b[0m \u001b[1m15s\u001b[0m 16ms/step - accuracy: 0.9709 - loss: 0.2216\n"
     ]
    }
   ],
   "source": [
    "# Convert DataFrames to NumPy arrays\n",
    "X_train_np_more = X_train_more.to_numpy()\n",
    "Y_train_np_more = Y_train_more.to_numpy().reshape(-1)  # Ensure it's a 1D array\n",
    "\n",
    "# Fit the model\n",
    "history_train_without_r_more_12=model_without_regularization_12.fit(X_train_np_more, Y_train_np_more, epochs=50, batch_size=32)\n",
    "#training with the train data(with added data)"
   ]
  },
  {
   "cell_type": "code",
   "execution_count": 121,
   "id": "0032c19e-54d4-4b58-b46f-43353d84a89a",
   "metadata": {},
   "outputs": [
    {
     "data": {
      "image/png": "[encoded data removed]",
      "text/plain": [
       "<Figure size 640x480 with 1 Axes>"
      ]
     },
     "metadata": {},
     "output_type": "display_data"
    }
   ],
   "source": [
    "plt.plot(range(1, len(history_train_without_r_more_12.history['loss']) + 1),  \n",
    "         history_train_without_r_more_12.history['loss'], label='Training Loss')\n",
    "\n",
    "plt.xlabel('Epochs')\n",
    "plt.ylabel('Loss')\n",
    "plt.title('Training Loss vs. Epochs')\n",
    "plt.legend()\n",
    "plt.grid(True)\n",
    "plt.show()"
   ]
  },
  {
   "cell_type": "code",
   "execution_count": 136,
   "id": "b6c21f2b-7ad2-4910-bf3a-e3ec33dc4454",
   "metadata": {},
   "outputs": [
    {
     "name": "stdout",
     "output_type": "stream",
     "text": [
      "📌 Training Loss: 0.1529, Training Accuracy: 97.20%\n",
      "📌 CV Loss: 0.1598, CV Accuracy: 96.84%\n"
     ]
    }
   ],
   "source": [
    "train_loss_12, train_acc_12 = model_without_regularization_12.evaluate(X_train_np, Y_train_np, verbose=0)\n",
    "\n",
    "print(f\"📌 Training Loss: {train_loss_12:.4f}, Training Accuracy: {train_acc_12 * 100:.2f}%\")\n",
    "\n",
    "cv_loss_12, cv_acc_12 =  model_without_regularization_12.evaluate(X_cv_np, Y_cv_np, verbose=0)\n",
    "\n",
    "print(f\"📌 CV Loss: {cv_loss_12:.4f}, CV Accuracy: {cv_acc_12 * 100:.2f}%\")"
   ]
  },
  {
   "cell_type": "code",
   "execution_count": null,
   "id": "9aef2a36-37a3-427d-9533-72782988200e",
   "metadata": {},
   "outputs": [],
   "source": [
    "'''\n",
    "Adding more data reduced overfitting by narrowing the gap between training and CV loss. \n",
    "Initially, the loss difference was large (0.0638 vs. 0.5715), but now it's much smaller (0.1529 vs. 0.1598), \n",
    "indicating better generalization. While training accuracy dropped slightly (99.33% → 97.20%), \n",
    "CV accuracy improved (95.21% → 96.84%), showing that more data enhances model performance.\n",
    "'''"
   ]
  },
  {
   "cell_type": "code",
   "execution_count": null,
   "id": "2d432735-d06d-4dd6-af58-cc6514a4fd92",
   "metadata": {},
   "outputs": [],
   "source": [
    "'''\n",
    "->regularization\n",
    "why process of regularization reduces overfitting?\n",
    "Regularization reduces overfitting by preventing the model from becoming too complex and overly \n",
    "dependent on training data. Techniques like L2 regularization (weight decay) penalize large weights, \n",
    "encouraging the model to learn simpler patterns that generalize better. This helps reduce the gap between \n",
    "training and validation performance, making the model more robust to unseen data.\n",
    "\n",
    "model_with_regularization_21 will be used to evaluate performance(note:we are using the dataset without adding more data)\n",
    "'''"
   ]
  },
  {
   "cell_type": "code",
   "execution_count": 123,
   "id": "1e2c655c-1f7f-448d-899b-db2a9ba88fe1",
   "metadata": {},
   "outputs": [],
   "source": [
    "\n",
    "from tensorflow.keras.regularizers import L2\n",
    "model_with_regularization_21 = Sequential([\n",
    "    tf.keras.Input(shape=(784,)),  \n",
    "    Dense(units=128, activation='relu',kernel_regularizer=L2(0.01)),  # Hidden layer\n",
    "    Dense(units=64, activation='relu',kernel_regularizer=L2(0.01)),\n",
    "    Dense(units=32, activation='relu',kernel_regularizer=L2(0.01)),\n",
    "    Dense(units=10, activation='linear')  # 10 output classes\n",
    "])"
   ]
  },
  {
   "cell_type": "code",
   "execution_count": null,
   "id": "dcb46fed-a17b-4940-a635-eea8f5052f4e",
   "metadata": {},
   "outputs": [],
   "source": [
    "'''\n",
    "`kernel_regularizer=L2(0.01)` applies L2 regularization to the layer's weights, adding a penalty proportional to \n",
    "the sum of squared weights. This prevents excessively large weights, reducing overfitting and improving generalization.\n",
    "'''"
   ]
  },
  {
   "cell_type": "code",
   "execution_count": 124,
   "id": "9f832be9-0c9b-4695-b8af-73595c754198",
   "metadata": {},
   "outputs": [
    {
     "data": {
      "text/html": [
       "<pre style=\"white-space:pre;overflow-x:auto;line-height:normal;font-family:Menlo,'DejaVu Sans Mono',consolas,'Courier New',monospace\"><span style=\"font-weight: bold\">Model: \"sequential_7\"</span>\n",
       "</pre>\n"
      ],
      "text/plain": [
       "\u001b[1mModel: \"sequential_7\"\u001b[0m\n"
      ]
     },
     "metadata": {},
     "output_type": "display_data"
    },
    {
     "data": {
      "text/html": [
       "<pre style=\"white-space:pre;overflow-x:auto;line-height:normal;font-family:Menlo,'DejaVu Sans Mono',consolas,'Courier New',monospace\">┏━━━━━━━━━━━━━━━━━━━━━━━━━━━━━━━━━━━━━━┳━━━━━━━━━━━━━━━━━━━━━━━━━━━━━┳━━━━━━━━━━━━━━━━━┓\n",
       "┃<span style=\"font-weight: bold\"> Layer (type)                         </span>┃<span style=\"font-weight: bold\"> Output Shape                </span>┃<span style=\"font-weight: bold\">         Param # </span>┃\n",
       "┡━━━━━━━━━━━━━━━━━━━━━━━━━━━━━━━━━━━━━━╇━━━━━━━━━━━━━━━━━━━━━━━━━━━━━╇━━━━━━━━━━━━━━━━━┩\n",
       "│ dense_28 (<span style=\"color: #0087ff; text-decoration-color: #0087ff\">Dense</span>)                     │ (<span style=\"color: #00d7ff; text-decoration-color: #00d7ff\">None</span>, <span style=\"color: #00af00; text-decoration-color: #00af00\">128</span>)                 │         <span style=\"color: #00af00; text-decoration-color: #00af00\">100,480</span> │\n",
       "├──────────────────────────────────────┼─────────────────────────────┼─────────────────┤\n",
       "│ dense_29 (<span style=\"color: #0087ff; text-decoration-color: #0087ff\">Dense</span>)                     │ (<span style=\"color: #00d7ff; text-decoration-color: #00d7ff\">None</span>, <span style=\"color: #00af00; text-decoration-color: #00af00\">64</span>)                  │           <span style=\"color: #00af00; text-decoration-color: #00af00\">8,256</span> │\n",
       "├──────────────────────────────────────┼─────────────────────────────┼─────────────────┤\n",
       "│ dense_30 (<span style=\"color: #0087ff; text-decoration-color: #0087ff\">Dense</span>)                     │ (<span style=\"color: #00d7ff; text-decoration-color: #00d7ff\">None</span>, <span style=\"color: #00af00; text-decoration-color: #00af00\">32</span>)                  │           <span style=\"color: #00af00; text-decoration-color: #00af00\">2,080</span> │\n",
       "├──────────────────────────────────────┼─────────────────────────────┼─────────────────┤\n",
       "│ dense_31 (<span style=\"color: #0087ff; text-decoration-color: #0087ff\">Dense</span>)                     │ (<span style=\"color: #00d7ff; text-decoration-color: #00d7ff\">None</span>, <span style=\"color: #00af00; text-decoration-color: #00af00\">10</span>)                  │             <span style=\"color: #00af00; text-decoration-color: #00af00\">330</span> │\n",
       "└──────────────────────────────────────┴─────────────────────────────┴─────────────────┘\n",
       "</pre>\n"
      ],
      "text/plain": [
       "┏━━━━━━━━━━━━━━━━━━━━━━━━━━━━━━━━━━━━━━┳━━━━━━━━━━━━━━━━━━━━━━━━━━━━━┳━━━━━━━━━━━━━━━━━┓\n",
       "┃\u001b[1m \u001b[0m\u001b[1mLayer (type)                        \u001b[0m\u001b[1m \u001b[0m┃\u001b[1m \u001b[0m\u001b[1mOutput Shape               \u001b[0m\u001b[1m \u001b[0m┃\u001b[1m \u001b[0m\u001b[1m        Param #\u001b[0m\u001b[1m \u001b[0m┃\n",
       "┡━━━━━━━━━━━━━━━━━━━━━━━━━━━━━━━━━━━━━━╇━━━━━━━━━━━━━━━━━━━━━━━━━━━━━╇━━━━━━━━━━━━━━━━━┩\n",
       "│ dense_28 (\u001b[38;5;33mDense\u001b[0m)                     │ (\u001b[38;5;45mNone\u001b[0m, \u001b[38;5;34m128\u001b[0m)                 │         \u001b[38;5;34m100,480\u001b[0m │\n",
       "├──────────────────────────────────────┼─────────────────────────────┼─────────────────┤\n",
       "│ dense_29 (\u001b[38;5;33mDense\u001b[0m)                     │ (\u001b[38;5;45mNone\u001b[0m, \u001b[38;5;34m64\u001b[0m)                  │           \u001b[38;5;34m8,256\u001b[0m │\n",
       "├──────────────────────────────────────┼─────────────────────────────┼─────────────────┤\n",
       "│ dense_30 (\u001b[38;5;33mDense\u001b[0m)                     │ (\u001b[38;5;45mNone\u001b[0m, \u001b[38;5;34m32\u001b[0m)                  │           \u001b[38;5;34m2,080\u001b[0m │\n",
       "├──────────────────────────────────────┼─────────────────────────────┼─────────────────┤\n",
       "│ dense_31 (\u001b[38;5;33mDense\u001b[0m)                     │ (\u001b[38;5;45mNone\u001b[0m, \u001b[38;5;34m10\u001b[0m)                  │             \u001b[38;5;34m330\u001b[0m │\n",
       "└──────────────────────────────────────┴─────────────────────────────┴─────────────────┘\n"
      ]
     },
     "metadata": {},
     "output_type": "display_data"
    },
    {
     "data": {
      "text/html": [
       "<pre style=\"white-space:pre;overflow-x:auto;line-height:normal;font-family:Menlo,'DejaVu Sans Mono',consolas,'Courier New',monospace\"><span style=\"font-weight: bold\"> Total params: </span><span style=\"color: #00af00; text-decoration-color: #00af00\">111,146</span> (434.16 KB)\n",
       "</pre>\n"
      ],
      "text/plain": [
       "\u001b[1m Total params: \u001b[0m\u001b[38;5;34m111,146\u001b[0m (434.16 KB)\n"
      ]
     },
     "metadata": {},
     "output_type": "display_data"
    },
    {
     "data": {
      "text/html": [
       "<pre style=\"white-space:pre;overflow-x:auto;line-height:normal;font-family:Menlo,'DejaVu Sans Mono',consolas,'Courier New',monospace\"><span style=\"font-weight: bold\"> Trainable params: </span><span style=\"color: #00af00; text-decoration-color: #00af00\">111,146</span> (434.16 KB)\n",
       "</pre>\n"
      ],
      "text/plain": [
       "\u001b[1m Trainable params: \u001b[0m\u001b[38;5;34m111,146\u001b[0m (434.16 KB)\n"
      ]
     },
     "metadata": {},
     "output_type": "display_data"
    },
    {
     "data": {
      "text/html": [
       "<pre style=\"white-space:pre;overflow-x:auto;line-height:normal;font-family:Menlo,'DejaVu Sans Mono',consolas,'Courier New',monospace\"><span style=\"font-weight: bold\"> Non-trainable params: </span><span style=\"color: #00af00; text-decoration-color: #00af00\">0</span> (0.00 B)\n",
       "</pre>\n"
      ],
      "text/plain": [
       "\u001b[1m Non-trainable params: \u001b[0m\u001b[38;5;34m0\u001b[0m (0.00 B)\n"
      ]
     },
     "metadata": {},
     "output_type": "display_data"
    }
   ],
   "source": [
    "model_with_regularization_21.summary()"
   ]
  },
  {
   "cell_type": "code",
   "execution_count": 125,
   "id": "e4be7493-6cd9-4b0c-ad97-b491744c1312",
   "metadata": {},
   "outputs": [],
   "source": [
    "[layer11, layer22, layer33,layer44] = model_with_regularization_21.layers"
   ]
  },
  {
   "cell_type": "code",
   "execution_count": 126,
   "id": "05bfae92-1072-4072-9ee1-3afc22c6855a",
   "metadata": {},
   "outputs": [
    {
     "name": "stdout",
     "output_type": "stream",
     "text": [
      "W1 shape = (784, 128), b1 shape = (128,)\n",
      "W2 shape = (128, 64), b2 shape = (64,)\n",
      "W3 shape = (64, 32), b3 shape = (32,)\n",
      "W4 shape = (32, 10), b4 shape = (10,)\n"
     ]
    }
   ],
   "source": [
    "#### Examine Weights shapes\n",
    "W1,b1 = layer11.get_weights()\n",
    "W2,b2 = layer22.get_weights()\n",
    "W3,b3 = layer33.get_weights()\n",
    "W4,b4 = layer44.get_weights()\n",
    "print(f\"W1 shape = {W1.shape}, b1 shape = {b1.shape}\")\n",
    "print(f\"W2 shape = {W2.shape}, b2 shape = {b2.shape}\")\n",
    "print(f\"W3 shape = {W3.shape}, b3 shape = {b3.shape}\")\n",
    "print(f\"W4 shape = {W4.shape}, b4 shape = {b4.shape}\")"
   ]
  },
  {
   "cell_type": "code",
   "execution_count": 127,
   "id": "ec413969-8a30-4da4-92da-4f01bb96da5b",
   "metadata": {},
   "outputs": [],
   "source": [
    "model_with_regularization_21.compile(\n",
    "    loss=tf.keras.losses.SparseCategoricalCrossentropy(from_logits=True),  \n",
    "    optimizer=tf.keras.optimizers.Adam(learning_rate=0.001),  \n",
    "    metrics=['accuracy']  # Use valid metrics like 'accuracy'\n",
    ")\n"
   ]
  },
  {
   "cell_type": "code",
   "execution_count": 128,
   "id": "2133072a-a388-4b6d-8de3-4548d406b63b",
   "metadata": {},
   "outputs": [
    {
     "name": "stdout",
     "output_type": "stream",
     "text": [
      "Epoch 1/50\n",
      "\u001b[1m376/376\u001b[0m \u001b[32m━━━━━━━━━━━━━━━━━━━━\u001b[0m\u001b[37m\u001b[0m \u001b[1m9s\u001b[0m 9ms/step - accuracy: 0.5897 - loss: 11.3433 \n",
      "Epoch 2/50\n",
      "\u001b[1m376/376\u001b[0m \u001b[32m━━━━━━━━━━━━━━━━━━━━\u001b[0m\u001b[37m\u001b[0m \u001b[1m8s\u001b[0m 17ms/step - accuracy: 0.8174 - loss: 2.9844\n",
      "Epoch 3/50\n",
      "\u001b[1m376/376\u001b[0m \u001b[32m━━━━━━━━━━━━━━━━━━━━\u001b[0m\u001b[37m\u001b[0m \u001b[1m8s\u001b[0m 11ms/step - accuracy: 0.8850 - loss: 2.4062 \n",
      "Epoch 4/50\n",
      "\u001b[1m376/376\u001b[0m \u001b[32m━━━━━━━━━━━━━━━━━━━━\u001b[0m\u001b[37m\u001b[0m \u001b[1m5s\u001b[0m 13ms/step - accuracy: 0.9047 - loss: 2.0032\n",
      "Epoch 5/50\n",
      "\u001b[1m376/376\u001b[0m \u001b[32m━━━━━━━━━━━━━━━━━━━━\u001b[0m\u001b[37m\u001b[0m \u001b[1m5s\u001b[0m 12ms/step - accuracy: 0.9245 - loss: 1.6944\n",
      "Epoch 6/50\n",
      "\u001b[1m376/376\u001b[0m \u001b[32m━━━━━━━━━━━━━━━━━━━━\u001b[0m\u001b[37m\u001b[0m \u001b[1m4s\u001b[0m 9ms/step - accuracy: 0.9374 - loss: 1.4149 \n",
      "Epoch 7/50\n",
      "\u001b[1m376/376\u001b[0m \u001b[32m━━━━━━━━━━━━━━━━━━━━\u001b[0m\u001b[37m\u001b[0m \u001b[1m4s\u001b[0m 9ms/step - accuracy: 0.9340 - loss: 1.2430 \n",
      "Epoch 8/50\n",
      "\u001b[1m376/376\u001b[0m \u001b[32m━━━━━━━━━━━━━━━━━━━━\u001b[0m\u001b[37m\u001b[0m \u001b[1m4s\u001b[0m 12ms/step - accuracy: 0.9408 - loss: 1.0556\n",
      "Epoch 9/50\n",
      "\u001b[1m376/376\u001b[0m \u001b[32m━━━━━━━━━━━━━━━━━━━━\u001b[0m\u001b[37m\u001b[0m \u001b[1m3s\u001b[0m 8ms/step - accuracy: 0.9562 - loss: 0.8761\n",
      "Epoch 10/50\n",
      "\u001b[1m376/376\u001b[0m \u001b[32m━━━━━━━━━━━━━━━━━━━━\u001b[0m\u001b[37m\u001b[0m \u001b[1m6s\u001b[0m 9ms/step - accuracy: 0.9646 - loss: 0.7174 \n",
      "Epoch 11/50\n",
      "\u001b[1m376/376\u001b[0m \u001b[32m━━━━━━━━━━━━━━━━━━━━\u001b[0m\u001b[37m\u001b[0m \u001b[1m6s\u001b[0m 12ms/step - accuracy: 0.9609 - loss: 0.6323\n",
      "Epoch 12/50\n",
      "\u001b[1m376/376\u001b[0m \u001b[32m━━━━━━━━━━━━━━━━━━━━\u001b[0m\u001b[37m\u001b[0m \u001b[1m5s\u001b[0m 13ms/step - accuracy: 0.9605 - loss: 0.5550\n",
      "Epoch 13/50\n",
      "\u001b[1m376/376\u001b[0m \u001b[32m━━━━━━━━━━━━━━━━━━━━\u001b[0m\u001b[37m\u001b[0m \u001b[1m3s\u001b[0m 9ms/step - accuracy: 0.9618 - loss: 0.4884 \n",
      "Epoch 14/50\n",
      "\u001b[1m376/376\u001b[0m \u001b[32m━━━━━━━━━━━━━━━━━━━━\u001b[0m\u001b[37m\u001b[0m \u001b[1m2s\u001b[0m 6ms/step - accuracy: 0.9594 - loss: 0.4680\n",
      "Epoch 15/50\n",
      "\u001b[1m376/376\u001b[0m \u001b[32m━━━━━━━━━━━━━━━━━━━━\u001b[0m\u001b[37m\u001b[0m \u001b[1m5s\u001b[0m 14ms/step - accuracy: 0.9648 - loss: 0.4117\n",
      "Epoch 16/50\n",
      "\u001b[1m376/376\u001b[0m \u001b[32m━━━━━━━━━━━━━━━━━━━━\u001b[0m\u001b[37m\u001b[0m \u001b[1m6s\u001b[0m 14ms/step - accuracy: 0.9615 - loss: 0.3884\n",
      "Epoch 17/50\n",
      "\u001b[1m376/376\u001b[0m \u001b[32m━━━━━━━━━━━━━━━━━━━━\u001b[0m\u001b[37m\u001b[0m \u001b[1m9s\u001b[0m 11ms/step - accuracy: 0.9621 - loss: 0.3694\n",
      "Epoch 18/50\n",
      "\u001b[1m376/376\u001b[0m \u001b[32m━━━━━━━━━━━━━━━━━━━━\u001b[0m\u001b[37m\u001b[0m \u001b[1m7s\u001b[0m 18ms/step - accuracy: 0.9638 - loss: 0.3342\n",
      "Epoch 19/50\n",
      "\u001b[1m376/376\u001b[0m \u001b[32m━━━━━━━━━━━━━━━━━━━━\u001b[0m\u001b[37m\u001b[0m \u001b[1m11s\u001b[0m 19ms/step - accuracy: 0.9672 - loss: 0.3157\n",
      "Epoch 20/50\n",
      "\u001b[1m376/376\u001b[0m \u001b[32m━━━━━━━━━━━━━━━━━━━━\u001b[0m\u001b[37m\u001b[0m \u001b[1m10s\u001b[0m 19ms/step - accuracy: 0.9634 - loss: 0.3030\n",
      "Epoch 21/50\n",
      "\u001b[1m376/376\u001b[0m \u001b[32m━━━━━━━━━━━━━━━━━━━━\u001b[0m\u001b[37m\u001b[0m \u001b[1m8s\u001b[0m 20ms/step - accuracy: 0.9619 - loss: 0.3032\n",
      "Epoch 22/50\n",
      "\u001b[1m376/376\u001b[0m \u001b[32m━━━━━━━━━━━━━━━━━━━━\u001b[0m\u001b[37m\u001b[0m \u001b[1m10s\u001b[0m 19ms/step - accuracy: 0.9674 - loss: 0.2916\n",
      "Epoch 23/50\n",
      "\u001b[1m376/376\u001b[0m \u001b[32m━━━━━━━━━━━━━━━━━━━━\u001b[0m\u001b[37m\u001b[0m \u001b[1m8s\u001b[0m 20ms/step - accuracy: 0.9583 - loss: 0.3218\n",
      "Epoch 24/50\n",
      "\u001b[1m376/376\u001b[0m \u001b[32m━━━━━━━━━━━━━━━━━━━━\u001b[0m\u001b[37m\u001b[0m \u001b[1m7s\u001b[0m 18ms/step - accuracy: 0.9659 - loss: 0.2826\n",
      "Epoch 25/50\n",
      "\u001b[1m376/376\u001b[0m \u001b[32m━━━━━━━━━━━━━━━━━━━━\u001b[0m\u001b[37m\u001b[0m \u001b[1m11s\u001b[0m 19ms/step - accuracy: 0.9616 - loss: 0.2900\n",
      "Epoch 26/50\n",
      "\u001b[1m376/376\u001b[0m \u001b[32m━━━━━━━━━━━━━━━━━━━━\u001b[0m\u001b[37m\u001b[0m \u001b[1m11s\u001b[0m 20ms/step - accuracy: 0.9638 - loss: 0.2745\n",
      "Epoch 27/50\n",
      "\u001b[1m376/376\u001b[0m \u001b[32m━━━━━━━━━━━━━━━━━━━━\u001b[0m\u001b[37m\u001b[0m \u001b[1m13s\u001b[0m 27ms/step - accuracy: 0.9690 - loss: 0.2651\n",
      "Epoch 28/50\n",
      "\u001b[1m376/376\u001b[0m \u001b[32m━━━━━━━━━━━━━━━━━━━━\u001b[0m\u001b[37m\u001b[0m \u001b[1m8s\u001b[0m 21ms/step - accuracy: 0.9724 - loss: 0.2479\n",
      "Epoch 29/50\n",
      "\u001b[1m376/376\u001b[0m \u001b[32m━━━━━━━━━━━━━━━━━━━━\u001b[0m\u001b[37m\u001b[0m \u001b[1m12s\u001b[0m 27ms/step - accuracy: 0.9662 - loss: 0.2667\n",
      "Epoch 30/50\n",
      "\u001b[1m376/376\u001b[0m \u001b[32m━━━━━━━━━━━━━━━━━━━━\u001b[0m\u001b[37m\u001b[0m \u001b[1m12s\u001b[0m 30ms/step - accuracy: 0.9630 - loss: 0.2784\n",
      "Epoch 31/50\n",
      "\u001b[1m376/376\u001b[0m \u001b[32m━━━━━━━━━━━━━━━━━━━━\u001b[0m\u001b[37m\u001b[0m \u001b[1m18s\u001b[0m 23ms/step - accuracy: 0.9685 - loss: 0.2637\n",
      "Epoch 32/50\n",
      "\u001b[1m376/376\u001b[0m \u001b[32m━━━━━━━━━━━━━━━━━━━━\u001b[0m\u001b[37m\u001b[0m \u001b[1m11s\u001b[0m 26ms/step - accuracy: 0.9714 - loss: 0.2449\n",
      "Epoch 33/50\n",
      "\u001b[1m376/376\u001b[0m \u001b[32m━━━━━━━━━━━━━━━━━━━━\u001b[0m\u001b[37m\u001b[0m \u001b[1m11s\u001b[0m 28ms/step - accuracy: 0.9633 - loss: 0.2694\n",
      "Epoch 34/50\n",
      "\u001b[1m376/376\u001b[0m \u001b[32m━━━━━━━━━━━━━━━━━━━━\u001b[0m\u001b[37m\u001b[0m \u001b[1m12s\u001b[0m 5ms/step - accuracy: 0.9685 - loss: 0.2484\n",
      "Epoch 35/50\n",
      "\u001b[1m376/376\u001b[0m \u001b[32m━━━━━━━━━━━━━━━━━━━━\u001b[0m\u001b[37m\u001b[0m \u001b[1m5s\u001b[0m 13ms/step - accuracy: 0.9638 - loss: 0.2661\n",
      "Epoch 36/50\n",
      "\u001b[1m376/376\u001b[0m \u001b[32m━━━━━━━━━━━━━━━━━━━━\u001b[0m\u001b[37m\u001b[0m \u001b[1m10s\u001b[0m 24ms/step - accuracy: 0.9661 - loss: 0.2523\n",
      "Epoch 37/50\n",
      "\u001b[1m376/376\u001b[0m \u001b[32m━━━━━━━━━━━━━━━━━━━━\u001b[0m\u001b[37m\u001b[0m \u001b[1m13s\u001b[0m 30ms/step - accuracy: 0.9510 - loss: 0.3184\n",
      "Epoch 38/50\n",
      "\u001b[1m376/376\u001b[0m \u001b[32m━━━━━━━━━━━━━━━━━━━━\u001b[0m\u001b[37m\u001b[0m \u001b[1m18s\u001b[0m 23ms/step - accuracy: 0.9713 - loss: 0.2528\n",
      "Epoch 39/50\n",
      "\u001b[1m376/376\u001b[0m \u001b[32m━━━━━━━━━━━━━━━━━━━━\u001b[0m\u001b[37m\u001b[0m \u001b[1m10s\u001b[0m 22ms/step - accuracy: 0.9690 - loss: 0.2515\n",
      "Epoch 40/50\n",
      "\u001b[1m376/376\u001b[0m \u001b[32m━━━━━━━━━━━━━━━━━━━━\u001b[0m\u001b[37m\u001b[0m \u001b[1m11s\u001b[0m 28ms/step - accuracy: 0.9713 - loss: 0.2345\n",
      "Epoch 41/50\n",
      "\u001b[1m376/376\u001b[0m \u001b[32m━━━━━━━━━━━━━━━━━━━━\u001b[0m\u001b[37m\u001b[0m \u001b[1m16s\u001b[0m 15ms/step - accuracy: 0.9665 - loss: 0.2501\n",
      "Epoch 42/50\n",
      "\u001b[1m376/376\u001b[0m \u001b[32m━━━━━━━━━━━━━━━━━━━━\u001b[0m\u001b[37m\u001b[0m \u001b[1m15s\u001b[0m 28ms/step - accuracy: 0.9686 - loss: 0.2446\n",
      "Epoch 43/50\n",
      "\u001b[1m376/376\u001b[0m \u001b[32m━━━━━━━━━━━━━━━━━━━━\u001b[0m\u001b[37m\u001b[0m \u001b[1m10s\u001b[0m 27ms/step - accuracy: 0.9645 - loss: 0.2472\n",
      "Epoch 44/50\n",
      "\u001b[1m376/376\u001b[0m \u001b[32m━━━━━━━━━━━━━━━━━━━━\u001b[0m\u001b[37m\u001b[0m \u001b[1m12s\u001b[0m 30ms/step - accuracy: 0.9766 - loss: 0.2174\n",
      "Epoch 45/50\n",
      "\u001b[1m376/376\u001b[0m \u001b[32m━━━━━━━━━━━━━━━━━━━━\u001b[0m\u001b[37m\u001b[0m \u001b[1m8s\u001b[0m 20ms/step - accuracy: 0.9634 - loss: 0.2523\n",
      "Epoch 46/50\n",
      "\u001b[1m376/376\u001b[0m \u001b[32m━━━━━━━━━━━━━━━━━━━━\u001b[0m\u001b[37m\u001b[0m \u001b[1m9s\u001b[0m 16ms/step - accuracy: 0.9705 - loss: 0.2310\n",
      "Epoch 47/50\n",
      "\u001b[1m376/376\u001b[0m \u001b[32m━━━━━━━━━━━━━━━━━━━━\u001b[0m\u001b[37m\u001b[0m \u001b[1m10s\u001b[0m 15ms/step - accuracy: 0.9711 - loss: 0.2296\n",
      "Epoch 48/50\n",
      "\u001b[1m376/376\u001b[0m \u001b[32m━━━━━━━━━━━━━━━━━━━━\u001b[0m\u001b[37m\u001b[0m \u001b[1m4s\u001b[0m 11ms/step - accuracy: 0.9686 - loss: 0.2278\n",
      "Epoch 49/50\n",
      "\u001b[1m376/376\u001b[0m \u001b[32m━━━━━━━━━━━━━━━━━━━━\u001b[0m\u001b[37m\u001b[0m \u001b[1m4s\u001b[0m 10ms/step - accuracy: 0.9672 - loss: 0.2413 \n",
      "Epoch 50/50\n",
      "\u001b[1m376/376\u001b[0m \u001b[32m━━━━━━━━━━━━━━━━━━━━\u001b[0m\u001b[37m\u001b[0m \u001b[1m4s\u001b[0m 10ms/step - accuracy: 0.9724 - loss: 0.2320\n"
     ]
    }
   ],
   "source": [
    "X_train_np = X_train.to_numpy()\n",
    "Y_train_np = Y_train.to_numpy().reshape(-1)  # Ensure it's a 1D array\n",
    "history_train_with_r_21=model_with_regularization_21.fit(X_train_np, Y_train_np, epochs=50, batch_size=32)"
   ]
  },
  {
   "cell_type": "code",
   "execution_count": 131,
   "id": "88cb1e75-f94e-4539-9e1e-b00514ebe4a5",
   "metadata": {},
   "outputs": [
    {
     "data": {
      "image/png": "[encoded data removed]",
      "text/plain": [
       "<Figure size 640x480 with 1 Axes>"
      ]
     },
     "metadata": {},
     "output_type": "display_data"
    }
   ],
   "source": [
    "plt.plot(range(1, len(history_train_with_r_21.history['loss']) + 1),  \n",
    "         history_train_with_r_21.history['loss'], label='Training Loss')\n",
    "\n",
    "plt.xlabel('Epochs')\n",
    "plt.ylabel('Loss')\n",
    "plt.title('Training Loss vs. Epochs')\n",
    "plt.legend()\n",
    "plt.grid(True)\n",
    "plt.show()"
   ]
  },
  {
   "cell_type": "code",
   "execution_count": 137,
   "id": "31b9d7bc-7563-4c9c-959c-b2d169fec402",
   "metadata": {},
   "outputs": [
    {
     "name": "stdout",
     "output_type": "stream",
     "text": [
      "📌 Training Loss: 0.2321, Training Accuracy: 96.95%\n",
      "📌 CV Loss: 0.3549, CV Accuracy: 93.95%\n"
     ]
    }
   ],
   "source": [
    "train_loss_21, train_acc_21 = model_with_regularization_21.evaluate(X_train_np, Y_train_np, verbose=0)\n",
    "\n",
    "print(f\"📌 Training Loss: {train_loss_21:.4f}, Training Accuracy: {train_acc_21 * 100:.2f}%\")\n",
    "\n",
    "cv_loss_21, cv_acc_21 = model_with_regularization_21.evaluate(X_cv_np, Y_cv_np, verbose=0)\n",
    "\n",
    "print(f\"📌 CV Loss: {cv_loss_21:.4f}, CV Accuracy: {cv_acc_21 * 100:.2f}%\")"
   ]
  },
  {
   "cell_type": "code",
   "execution_count": null,
   "id": "91b5759d-1f28-485f-8e20-617b8a0d3434",
   "metadata": {},
   "outputs": [],
   "source": [
    "'''\n",
    "Initially, without regularization and with less data, the model showed extreme\n",
    "overfitting (Train Loss: 0.0638, CV Loss: 0.5715). With regularization, \n",
    "the gap between training and CV loss has reduced (Train Loss: 0.2321, CV Loss: 0.3549), \n",
    "indicating improved generalization. However, the accuracy drop suggests a trade-off where \n",
    "the model is now less overfitted but slightly underperforming on training data.\n",
    "'''"
   ]
  },
  {
   "cell_type": "code",
   "execution_count": null,
   "id": "d8a563b0-1309-43e7-a2fd-4e2ae233831f",
   "metadata": {},
   "outputs": [],
   "source": [
    "'''\n",
    "Adding more data significantly reduced overfitting, bringing CV accuracy closer to training accuracy (97.20% → 96.84%).\n",
    "Regularization further improved generalization but slightly reduced overall accuracy (96.95% → 93.95%). \n",
    "This shows that while adding data helps balance performance, regularization prevents overfitting by controlling complexity, \n",
    "though it may slightly impact training accuracy.\n",
    "'''"
   ]
  },
  {
   "cell_type": "code",
   "execution_count": null,
   "id": "8f2e05f7-00ac-4372-9522-22fad7483b11",
   "metadata": {},
   "outputs": [],
   "source": [
    "'''\n",
    "Now with model_with_regularization we will be avaluating the dataset by adding more data and using regularization to reduce overfitting as \n",
    "much as possible\n",
    "we should consider bias as well but neural networks are usually low bias networks\n",
    "Neural networks are typically low-bias models because they have a high capacity to learn complex patterns from data. \n",
    "Their deep architecture allows them to fit intricate relationships, reducing bias. However, this flexibility can lead to overfitting,\n",
    "making techniques like regularization and adding more data essential for better generalization.\n",
    "'''"
   ]
  },
  {
   "cell_type": "code",
   "execution_count": 133,
   "id": "6fbb01c5-7fde-4549-bbcc-35b8a8642017",
   "metadata": {},
   "outputs": [],
   "source": [
    "from tensorflow.keras.regularizers import L2\n",
    "model_with_regularization_22 = Sequential([\n",
    "    tf.keras.Input(shape=(784,)),  \n",
    "    Dense(units=128, activation='relu',kernel_regularizer=L2(0.01)),  # Hidden layer\n",
    "    Dense(units=64, activation='relu',kernel_regularizer=L2(0.01)),\n",
    "    Dense(units=32, activation='relu',kernel_regularizer=L2(0.01)),\n",
    "    Dense(units=10, activation='linear')  # 10 output classes\n",
    "])"
   ]
  },
  {
   "cell_type": "code",
   "execution_count": 134,
   "id": "6846b518-24f0-47c4-986f-b560cadd9ea2",
   "metadata": {},
   "outputs": [],
   "source": [
    "model_with_regularization_22.compile(\n",
    "    loss=tf.keras.losses.SparseCategoricalCrossentropy(from_logits=True),  \n",
    "    optimizer=tf.keras.optimizers.Adam(learning_rate=0.001),  \n",
    "    metrics=['accuracy']  # Use valid metrics like 'accuracy'\n",
    ")"
   ]
  },
  {
   "cell_type": "code",
   "execution_count": 135,
   "id": "e463fae0-5eb9-49da-99be-7fff420e7732",
   "metadata": {},
   "outputs": [
    {
     "name": "stdout",
     "output_type": "stream",
     "text": [
      "Epoch 1/50\n",
      "\u001b[1m626/626\u001b[0m \u001b[32m━━━━━━━━━━━━━━━━━━━━\u001b[0m\u001b[37m\u001b[0m \u001b[1m11s\u001b[0m 11ms/step - accuracy: 0.6102 - loss: 7.4406\n",
      "Epoch 2/50\n",
      "\u001b[1m626/626\u001b[0m \u001b[32m━━━━━━━━━━━━━━━━━━━━\u001b[0m\u001b[37m\u001b[0m \u001b[1m11s\u001b[0m 12ms/step - accuracy: 0.8655 - loss: 2.4796\n",
      "Epoch 3/50\n",
      "\u001b[1m626/626\u001b[0m \u001b[32m━━━━━━━━━━━━━━━━━━━━\u001b[0m\u001b[37m\u001b[0m \u001b[1m10s\u001b[0m 13ms/step - accuracy: 0.9106 - loss: 1.7555\n",
      "Epoch 4/50\n",
      "\u001b[1m626/626\u001b[0m \u001b[32m━━━━━━━━━━━━━━━━━━━━\u001b[0m\u001b[37m\u001b[0m \u001b[1m7s\u001b[0m 12ms/step - accuracy: 0.9255 - loss: 1.2817\n",
      "Epoch 5/50\n",
      "\u001b[1m626/626\u001b[0m \u001b[32m━━━━━━━━━━━━━━━━━━━━\u001b[0m\u001b[37m\u001b[0m \u001b[1m11s\u001b[0m 12ms/step - accuracy: 0.9426 - loss: 0.9210\n",
      "Epoch 6/50\n",
      "\u001b[1m626/626\u001b[0m \u001b[32m━━━━━━━━━━━━━━━━━━━━\u001b[0m\u001b[37m\u001b[0m \u001b[1m10s\u001b[0m 12ms/step - accuracy: 0.9491 - loss: 0.6919\n",
      "Epoch 7/50\n",
      "\u001b[1m626/626\u001b[0m \u001b[32m━━━━━━━━━━━━━━━━━━━━\u001b[0m\u001b[37m\u001b[0m \u001b[1m13s\u001b[0m 16ms/step - accuracy: 0.9551 - loss: 0.5263\n",
      "Epoch 8/50\n",
      "\u001b[1m626/626\u001b[0m \u001b[32m━━━━━━━━━━━━━━━━━━━━\u001b[0m\u001b[37m\u001b[0m \u001b[1m9s\u001b[0m 14ms/step - accuracy: 0.9541 - loss: 0.4432 \n",
      "Epoch 9/50\n",
      "\u001b[1m626/626\u001b[0m \u001b[32m━━━━━━━━━━━━━━━━━━━━\u001b[0m\u001b[37m\u001b[0m \u001b[1m9s\u001b[0m 11ms/step - accuracy: 0.9615 - loss: 0.3704\n",
      "Epoch 10/50\n",
      "\u001b[1m626/626\u001b[0m \u001b[32m━━━━━━━━━━━━━━━━━━━━\u001b[0m\u001b[37m\u001b[0m \u001b[1m12s\u001b[0m 13ms/step - accuracy: 0.9553 - loss: 0.3530\n",
      "Epoch 11/50\n",
      "\u001b[1m626/626\u001b[0m \u001b[32m━━━━━━━━━━━━━━━━━━━━\u001b[0m\u001b[37m\u001b[0m \u001b[1m13s\u001b[0m 18ms/step - accuracy: 0.9565 - loss: 0.3208\n",
      "Epoch 12/50\n",
      "\u001b[1m626/626\u001b[0m \u001b[32m━━━━━━━━━━━━━━━━━━━━\u001b[0m\u001b[37m\u001b[0m \u001b[1m20s\u001b[0m 16ms/step - accuracy: 0.9596 - loss: 0.3069\n",
      "Epoch 13/50\n",
      "\u001b[1m626/626\u001b[0m \u001b[32m━━━━━━━━━━━━━━━━━━━━\u001b[0m\u001b[37m\u001b[0m \u001b[1m20s\u001b[0m 16ms/step - accuracy: 0.9573 - loss: 0.2937\n",
      "Epoch 14/50\n",
      "\u001b[1m626/626\u001b[0m \u001b[32m━━━━━━━━━━━━━━━━━━━━\u001b[0m\u001b[37m\u001b[0m \u001b[1m15s\u001b[0m 23ms/step - accuracy: 0.9615 - loss: 0.2805\n",
      "Epoch 15/50\n",
      "\u001b[1m626/626\u001b[0m \u001b[32m━━━━━━━━━━━━━━━━━━━━\u001b[0m\u001b[37m\u001b[0m \u001b[1m18s\u001b[0m 18ms/step - accuracy: 0.9644 - loss: 0.2693\n",
      "Epoch 16/50\n",
      "\u001b[1m626/626\u001b[0m \u001b[32m━━━━━━━━━━━━━━━━━━━━\u001b[0m\u001b[37m\u001b[0m \u001b[1m7s\u001b[0m 12ms/step - accuracy: 0.9594 - loss: 0.2785\n",
      "Epoch 17/50\n",
      "\u001b[1m626/626\u001b[0m \u001b[32m━━━━━━━━━━━━━━━━━━━━\u001b[0m\u001b[37m\u001b[0m \u001b[1m10s\u001b[0m 11ms/step - accuracy: 0.9618 - loss: 0.2652\n",
      "Epoch 18/50\n",
      "\u001b[1m626/626\u001b[0m \u001b[32m━━━━━━━━━━━━━━━━━━━━\u001b[0m\u001b[37m\u001b[0m \u001b[1m7s\u001b[0m 11ms/step - accuracy: 0.9612 - loss: 0.2706\n",
      "Epoch 19/50\n",
      "\u001b[1m626/626\u001b[0m \u001b[32m━━━━━━━━━━━━━━━━━━━━\u001b[0m\u001b[37m\u001b[0m \u001b[1m6s\u001b[0m 9ms/step - accuracy: 0.9625 - loss: 0.2607 \n",
      "Epoch 20/50\n",
      "\u001b[1m626/626\u001b[0m \u001b[32m━━━━━━━━━━━━━━━━━━━━\u001b[0m\u001b[37m\u001b[0m \u001b[1m6s\u001b[0m 9ms/step - accuracy: 0.9642 - loss: 0.2504 \n",
      "Epoch 21/50\n",
      "\u001b[1m626/626\u001b[0m \u001b[32m━━━━━━━━━━━━━━━━━━━━\u001b[0m\u001b[37m\u001b[0m \u001b[1m6s\u001b[0m 9ms/step - accuracy: 0.9328 - loss: 0.3673\n",
      "Epoch 22/50\n",
      "\u001b[1m626/626\u001b[0m \u001b[32m━━━━━━━━━━━━━━━━━━━━\u001b[0m\u001b[37m\u001b[0m \u001b[1m5s\u001b[0m 8ms/step - accuracy: 0.9598 - loss: 0.2819\n",
      "Epoch 23/50\n",
      "\u001b[1m626/626\u001b[0m \u001b[32m━━━━━━━━━━━━━━━━━━━━\u001b[0m\u001b[37m\u001b[0m \u001b[1m5s\u001b[0m 7ms/step - accuracy: 0.9598 - loss: 0.2612\n",
      "Epoch 24/50\n",
      "\u001b[1m626/626\u001b[0m \u001b[32m━━━━━━━━━━━━━━━━━━━━\u001b[0m\u001b[37m\u001b[0m \u001b[1m6s\u001b[0m 10ms/step - accuracy: 0.9658 - loss: 0.2458\n",
      "Epoch 25/50\n",
      "\u001b[1m626/626\u001b[0m \u001b[32m━━━━━━━━━━━━━━━━━━━━\u001b[0m\u001b[37m\u001b[0m \u001b[1m13s\u001b[0m 15ms/step - accuracy: 0.9626 - loss: 0.2490\n",
      "Epoch 26/50\n",
      "\u001b[1m626/626\u001b[0m \u001b[32m━━━━━━━━━━━━━━━━━━━━\u001b[0m\u001b[37m\u001b[0m \u001b[1m7s\u001b[0m 10ms/step - accuracy: 0.9655 - loss: 0.2361 \n",
      "Epoch 27/50\n",
      "\u001b[1m626/626\u001b[0m \u001b[32m━━━━━━━━━━━━━━━━━━━━\u001b[0m\u001b[37m\u001b[0m \u001b[1m5s\u001b[0m 8ms/step - accuracy: 0.9626 - loss: 0.2533\n",
      "Epoch 28/50\n",
      "\u001b[1m626/626\u001b[0m \u001b[32m━━━━━━━━━━━━━━━━━━━━\u001b[0m\u001b[37m\u001b[0m \u001b[1m5s\u001b[0m 8ms/step - accuracy: 0.9624 - loss: 0.2488\n",
      "Epoch 29/50\n",
      "\u001b[1m626/626\u001b[0m \u001b[32m━━━━━━━━━━━━━━━━━━━━\u001b[0m\u001b[37m\u001b[0m \u001b[1m5s\u001b[0m 7ms/step - accuracy: 0.9675 - loss: 0.2339\n",
      "Epoch 30/50\n",
      "\u001b[1m626/626\u001b[0m \u001b[32m━━━━━━━━━━━━━━━━━━━━\u001b[0m\u001b[37m\u001b[0m \u001b[1m5s\u001b[0m 8ms/step - accuracy: 0.9639 - loss: 0.2415\n",
      "Epoch 31/50\n",
      "\u001b[1m626/626\u001b[0m \u001b[32m━━━━━━━━━━━━━━━━━━━━\u001b[0m\u001b[37m\u001b[0m \u001b[1m5s\u001b[0m 8ms/step - accuracy: 0.9635 - loss: 0.2398\n",
      "Epoch 32/50\n",
      "\u001b[1m626/626\u001b[0m \u001b[32m━━━━━━━━━━━━━━━━━━━━\u001b[0m\u001b[37m\u001b[0m \u001b[1m5s\u001b[0m 7ms/step - accuracy: 0.9507 - loss: 0.2987\n",
      "Epoch 33/50\n",
      "\u001b[1m626/626\u001b[0m \u001b[32m━━━━━━━━━━━━━━━━━━━━\u001b[0m\u001b[37m\u001b[0m \u001b[1m5s\u001b[0m 8ms/step - accuracy: 0.9638 - loss: 0.2404\n",
      "Epoch 34/50\n",
      "\u001b[1m626/626\u001b[0m \u001b[32m━━━━━━━━━━━━━━━━━━━━\u001b[0m\u001b[37m\u001b[0m \u001b[1m7s\u001b[0m 10ms/step - accuracy: 0.9628 - loss: 0.2419\n",
      "Epoch 35/50\n",
      "\u001b[1m626/626\u001b[0m \u001b[32m━━━━━━━━━━━━━━━━━━━━\u001b[0m\u001b[37m\u001b[0m \u001b[1m6s\u001b[0m 10ms/step - accuracy: 0.9663 - loss: 0.2364\n",
      "Epoch 36/50\n",
      "\u001b[1m626/626\u001b[0m \u001b[32m━━━━━━━━━━━━━━━━━━━━\u001b[0m\u001b[37m\u001b[0m \u001b[1m6s\u001b[0m 9ms/step - accuracy: 0.9610 - loss: 0.2509  \n",
      "Epoch 37/50\n",
      "\u001b[1m626/626\u001b[0m \u001b[32m━━━━━━━━━━━━━━━━━━━━\u001b[0m\u001b[37m\u001b[0m \u001b[1m6s\u001b[0m 9ms/step - accuracy: 0.9629 - loss: 0.2408\n",
      "Epoch 38/50\n",
      "\u001b[1m626/626\u001b[0m \u001b[32m━━━━━━━━━━━━━━━━━━━━\u001b[0m\u001b[37m\u001b[0m \u001b[1m10s\u001b[0m 8ms/step - accuracy: 0.9654 - loss: 0.2371\n",
      "Epoch 39/50\n",
      "\u001b[1m626/626\u001b[0m \u001b[32m━━━━━━━━━━━━━━━━━━━━\u001b[0m\u001b[37m\u001b[0m \u001b[1m5s\u001b[0m 7ms/step - accuracy: 0.9661 - loss: 0.2283\n",
      "Epoch 40/50\n",
      "\u001b[1m626/626\u001b[0m \u001b[32m━━━━━━━━━━━━━━━━━━━━\u001b[0m\u001b[37m\u001b[0m \u001b[1m5s\u001b[0m 7ms/step - accuracy: 0.9662 - loss: 0.2277\n",
      "Epoch 41/50\n",
      "\u001b[1m626/626\u001b[0m \u001b[32m━━━━━━━━━━━━━━━━━━━━\u001b[0m\u001b[37m\u001b[0m \u001b[1m5s\u001b[0m 8ms/step - accuracy: 0.9658 - loss: 0.2316\n",
      "Epoch 42/50\n",
      "\u001b[1m626/626\u001b[0m \u001b[32m━━━━━━━━━━━━━━━━━━━━\u001b[0m\u001b[37m\u001b[0m \u001b[1m6s\u001b[0m 8ms/step - accuracy: 0.9629 - loss: 0.2401\n",
      "Epoch 43/50\n",
      "\u001b[1m626/626\u001b[0m \u001b[32m━━━━━━━━━━━━━━━━━━━━\u001b[0m\u001b[37m\u001b[0m \u001b[1m5s\u001b[0m 8ms/step - accuracy: 0.9671 - loss: 0.2280\n",
      "Epoch 44/50\n",
      "\u001b[1m626/626\u001b[0m \u001b[32m━━━━━━━━━━━━━━━━━━━━\u001b[0m\u001b[37m\u001b[0m \u001b[1m5s\u001b[0m 7ms/step - accuracy: 0.9662 - loss: 0.2334\n",
      "Epoch 45/50\n",
      "\u001b[1m626/626\u001b[0m \u001b[32m━━━━━━━━━━━━━━━━━━━━\u001b[0m\u001b[37m\u001b[0m \u001b[1m5s\u001b[0m 8ms/step - accuracy: 0.9549 - loss: 0.2791\n",
      "Epoch 46/50\n",
      "\u001b[1m626/626\u001b[0m \u001b[32m━━━━━━━━━━━━━━━━━━━━\u001b[0m\u001b[37m\u001b[0m \u001b[1m5s\u001b[0m 8ms/step - accuracy: 0.9627 - loss: 0.2384\n",
      "Epoch 47/50\n",
      "\u001b[1m626/626\u001b[0m \u001b[32m━━━━━━━━━━━━━━━━━━━━\u001b[0m\u001b[37m\u001b[0m \u001b[1m5s\u001b[0m 8ms/step - accuracy: 0.9650 - loss: 0.2383\n",
      "Epoch 48/50\n",
      "\u001b[1m626/626\u001b[0m \u001b[32m━━━━━━━━━━━━━━━━━━━━\u001b[0m\u001b[37m\u001b[0m \u001b[1m9s\u001b[0m 15ms/step - accuracy: 0.9632 - loss: 0.2370\n",
      "Epoch 49/50\n",
      "\u001b[1m626/626\u001b[0m \u001b[32m━━━━━━━━━━━━━━━━━━━━\u001b[0m\u001b[37m\u001b[0m \u001b[1m11s\u001b[0m 16ms/step - accuracy: 0.9648 - loss: 0.2359\n",
      "Epoch 50/50\n",
      "\u001b[1m626/626\u001b[0m \u001b[32m━━━━━━━━━━━━━━━━━━━━\u001b[0m\u001b[37m\u001b[0m \u001b[1m11s\u001b[0m 18ms/step - accuracy: 0.9650 - loss: 0.2410\n"
     ]
    }
   ],
   "source": [
    "# Convert DataFrames to NumPy arrays\n",
    "X_train_np_more = X_train_more.to_numpy()\n",
    "Y_train_np_more = Y_train_more.to_numpy().reshape(-1)  # Ensure it's a 1D array\n",
    "\n",
    "# Fit the model\n",
    "history_train_without_r_more_22=model_with_regularization_22.fit(X_train_np_more, Y_train_np_more, epochs=50, batch_size=32)"
   ]
  },
  {
   "cell_type": "code",
   "execution_count": 138,
   "id": "47ab8298-34b2-4964-bcae-7475e1876b37",
   "metadata": {},
   "outputs": [
    {
     "data": {
      "image/png": "[encoded data removed]",
      "text/plain": [
       "<Figure size 640x480 with 1 Axes>"
      ]
     },
     "metadata": {},
     "output_type": "display_data"
    }
   ],
   "source": [
    "plt.plot(range(1, len(history_train_without_r_more_22.history['loss']) + 1),  \n",
    "         history_train_without_r_more_22.history['loss'], label='Training Loss')\n",
    "\n",
    "plt.xlabel('Epochs')\n",
    "plt.ylabel('Loss')\n",
    "plt.title('Training Loss vs. Epochs')\n",
    "plt.legend()\n",
    "plt.grid(True)\n",
    "plt.show()"
   ]
  },
  {
   "cell_type": "code",
   "execution_count": 139,
   "id": "a7ced161-2abf-4c4e-87fc-4662437425c0",
   "metadata": {},
   "outputs": [
    {
     "name": "stdout",
     "output_type": "stream",
     "text": [
      "📌 Training Loss: 0.2216, Training Accuracy: 96.69%\n",
      "📌 CV Loss: 0.2207, CV Accuracy: 96.77%\n"
     ]
    }
   ],
   "source": [
    "train_loss_22, train_acc_22 = model_with_regularization_22.evaluate(X_train_np, Y_train_np, verbose=0)\n",
    "\n",
    "print(f\"📌 Training Loss: {train_loss_22:.4f}, Training Accuracy: {train_acc_22 * 100:.2f}%\")\n",
    "\n",
    "cv_loss_22, cv_acc_22 = model_with_regularization_22.evaluate(X_cv_np, Y_cv_np, verbose=0)\n",
    "\n",
    "print(f\"📌 CV Loss: {cv_loss_22:.4f}, CV Accuracy: {cv_acc_22 * 100:.2f}%\")"
   ]
  },
  {
   "cell_type": "code",
   "execution_count": null,
   "id": "ea1f4938-f453-4810-836b-a7ede89ec2e0",
   "metadata": {},
   "outputs": [],
   "source": [
    "'''\n",
    "With both added data and regularization, the model achieves balanced performance, with training and CV losses closely matching. \n",
    "This indicates reduced overfitting and better generalization. Given these improvements, we will use this model for further predictions.\n",
    "'''"
   ]
  },
  {
   "cell_type": "code",
   "execution_count": null,
   "id": "cb7286c6-fbd3-472f-938d-90b979986a88",
   "metadata": {},
   "outputs": [],
   "source": [
    "'''\n",
    "below cell shows us how its performs on new test data\n",
    "it has an accuracy of 97.12% which is much better than starting model with no regularization\n",
    "\n",
    "we will check the errors made by the model as well\n",
    "'''"
   ]
  },
  {
   "cell_type": "code",
   "execution_count": 141,
   "id": "ecd9a758-0972-44f2-812e-8256c01c812e",
   "metadata": {},
   "outputs": [
    {
     "name": "stdout",
     "output_type": "stream",
     "text": [
      "📌 Test Loss: 0.2195, Test Accuracy: 97.12%\n"
     ]
    }
   ],
   "source": [
    "X_test_np = X_test.to_numpy()\n",
    "Y_test_np = Y_test.to_numpy().reshape(-1)\n",
    "test_loss_22, test_acc_22 = model_with_regularization_22.evaluate(X_test_np, Y_test_np, verbose=0)\n",
    "\n",
    "print(f\"📌 Test Loss: {test_loss_22:.4f}, Test Accuracy: {test_acc_22 * 100:.2f}%\")"
   ]
  },
  {
   "cell_type": "code",
   "execution_count": 142,
   "id": "aaa93ae1-0423-4952-9e88-dd63e0b38619",
   "metadata": {},
   "outputs": [
    {
     "name": "stdout",
     "output_type": "stream",
     "text": [
      "\u001b[1m75/75\u001b[0m \u001b[32m━━━━━━━━━━━━━━━━━━━━\u001b[0m\u001b[37m\u001b[0m \u001b[1m0s\u001b[0m 3ms/step   \n"
     ]
    }
   ],
   "source": [
    "y_pred_logits = model_with_regularization_22.predict(X_test_np)  \n",
    "y_pred = np.argmax(y_pred_logits, axis=1)  # Convert logits to class labels"
   ]
  },
  {
   "cell_type": "code",
   "execution_count": 143,
   "id": "a6dffd0c-f522-441c-bf8f-b5c285193bd9",
   "metadata": {},
   "outputs": [
    {
     "name": "stdout",
     "output_type": "stream",
     "text": [
      "Total errors: 69\n"
     ]
    }
   ],
   "source": [
    "incorrect_indices = np.where(y_pred != Y_test_np)[0]  # Indices where prediction != actual\n",
    "print(f\"Total errors: {len(incorrect_indices)}\")#printing no of errors made by modelon a test set of size 2400 data points"
   ]
  },
  {
   "cell_type": "code",
   "execution_count": 146,
   "id": "a0bd7f6f-5d32-4adf-8ca2-2390aa10495e",
   "metadata": {},
   "outputs": [
    {
     "data": {
      "image/png": "[encoded data removed]",
      "text/plain": [
       "<Figure size 1200x800 with 15 Axes>"
      ]
     },
     "metadata": {},
     "output_type": "display_data"
    }
   ],
   "source": [
    "last_15_errors = incorrect_indices[-15:]\n",
    "fig, axes = plt.subplots(3, 5, figsize=(12, 8))  # 3 rows, 5 columns\n",
    "\n",
    "for i, ax in enumerate(axes.flat):\n",
    "    idx = last_15_errors[i]\n",
    "    image = X_test_np[idx].reshape(28, 28)  # Reshape to 28x28 image\n",
    "    \n",
    "    ax.imshow(image, cmap=\"gray\")\n",
    "    ax.set_title(f\"Pred: {y_pred[idx]}, Actual: {Y_test_np[idx]}\")\n",
    "    ax.axis(\"off\")\n",
    "\n",
    "plt.tight_layout()\n",
    "plt.show()\n",
    "#showing errors made by the model"
   ]
  },
  {
   "cell_type": "code",
   "execution_count": null,
   "id": "ee681bd7-d2c4-4fe4-934f-30a1320caa11",
   "metadata": {},
   "outputs": [],
   "source": [
    "'''\n",
    "in the above cell it dispalys us the errors made by model \n",
    "by looking at them we can say our model prediction is good based on errors(which are reasonable errors not all of them but most)\n",
    "'''"
   ]
  },
  {
   "cell_type": "code",
   "execution_count": 147,
   "id": "88df8660-5757-4db4-a0e7-52501f68786b",
   "metadata": {},
   "outputs": [],
   "source": [
    "import numpy as np\n",
    "import matplotlib.pyplot as plt\n",
    "\n",
    "def predict_and_show(image_np):\n",
    "    \"\"\"\n",
    "    Takes a single-row NumPy array (shape: (1, 784)), \n",
    "    reshapes it to (28,28), predicts the label, and displays the image.\n",
    "\n",
    "    Args:\n",
    "    image_np (numpy array): A (1, 784) shaped input image.\n",
    "\n",
    "    Returns:\n",
    "    None (displays the image with prediction)\n",
    "    \"\"\"\n",
    "    # Ensure input shape is (1, 784)\n",
    "    assert image_np.shape == (1, 784), \"Input should be a (1, 784) numpy array.\"\n",
    "\n",
    "    # Predict\n",
    "    y_pred_logits = model_with_regularization_22.predict(image_np, verbose=0)  \n",
    "    y_pred = np.argmax(y_pred_logits, axis=1)[0]  # Get the predicted class\n",
    "\n",
    "    # Reshape image to (28,28) for visualization\n",
    "    image = image_np.reshape(28, 28)\n",
    "\n",
    "    # Plot image with prediction\n",
    "    plt.imshow(image, cmap=\"gray\")\n",
    "    plt.title(f\"Predicted Label: {y_pred}\")\n",
    "    plt.axis(\"off\")\n",
    "    plt.show()\n"
   ]
  },
  {
   "cell_type": "code",
   "execution_count": 150,
   "id": "4f3206be-4a26-4fa4-8a34-dc79919f65ed",
   "metadata": {},
   "outputs": [
    {
     "data": {
      "image/png": "[encoded data removed]",
      "text/plain": [
       "<Figure size 640x480 with 1 Axes>"
      ]
     },
     "metadata": {},
     "output_type": "display_data"
    }
   ],
   "source": [
    "# Example usage: Pick the first test sample\n",
    "sample = X_test_np[1010].reshape(1, 784)  # Ensure shape is (1, 784)\n",
    "predict_and_show(sample)\n"
   ]
  },
  {
   "cell_type": "code",
   "execution_count": null,
   "id": "5d22203f-3dea-4ac9-a29d-36f5354987db",
   "metadata": {},
   "outputs": [],
   "source": [
    "# (below cell)this will be the prediction function which we will be using to predict the further tests which we will take input from user"
   ]
  },
  {
   "cell_type": "code",
   "execution_count": 151,
   "id": "c665cc78-93fc-41d9-888e-ed6c3ec03632",
   "metadata": {},
   "outputs": [],
   "source": [
    "import numpy as np\n",
    "\n",
    "def predict_label(image_np):\n",
    "    \"\"\"\n",
    "    Takes a single-row NumPy array (shape: (1, 784)), \n",
    "    predicts the label, and returns it.\n",
    "\n",
    "    Args:\n",
    "    image_np (numpy array): A (1, 784) shaped input image.\n",
    "\n",
    "    Returns:\n",
    "    int: Predicted label\n",
    "    \"\"\"\n",
    "    # Ensure input shape is (1, 784)\n",
    "    assert image_np.shape == (1, 784), \"Input should be a (1, 784) numpy array.\"\n",
    "\n",
    "    # Predict\n",
    "    y_pred_logits = model_with_regularization_22.predict(image_np, verbose=0)  \n",
    "    y_pred = np.argmax(y_pred_logits, axis=1)[0]  # Get the predicted class\n",
    "\n",
    "    return y_pred\n"
   ]
  },
  {
   "cell_type": "code",
   "execution_count": null,
   "id": "abb87f9e-3e70-4ee6-ba94-286fe704be5f",
   "metadata": {},
   "outputs": [],
   "source": []
  }
 ],
 "metadata": {
  "kernelspec": {
   "display_name": "Python 3 (ipykernel)",
   "language": "python",
   "name": "python3"
  },
  "language_info": {
   "codemirror_mode": {
    "name": "ipython",
    "version": 3
   },
   "file_extension": ".py",
   "mimetype": "text/x-python",
   "name": "python",
   "nbconvert_exporter": "python",
   "pygments_lexer": "ipython3",
   "version": "3.12.9"
  }
 },
 "nbformat": 4,
 "nbformat_minor": 5
}
